{
 "cells": [
  {
   "cell_type": "markdown",
   "source": [
    "# Imports"
   ],
   "metadata": {
    "collapsed": false
   }
  },
  {
   "cell_type": "code",
   "execution_count": 2,
   "id": "68084f4f-1a6b-41d2-9b9f-e5a4b1f599e7",
   "metadata": {
    "tags": []
   },
   "outputs": [
    {
     "name": "stderr",
     "output_type": "stream",
     "text": [
      "Missing colon in file WindowsPath('C:/Users/humberto.carvalho/Anaconda3/lib/site-packages/matplotlib/mpl-data/stylelib/gadfly.mplstyle'), line 7 ('Se vocÃª quiser manter uma cÃ³pia local permanente que nÃ£o serÃ¡')\n",
      "Missing colon in file WindowsPath('C:/Users/humberto.carvalho/Anaconda3/lib/site-packages/matplotlib/mpl-data/stylelib/gadfly.mplstyle'), line 38 ('Se vocÃª omitir este parÃ¢metro, o backend serÃ¡ determinado pelo recuo.')\n",
      "Missing colon in file WindowsPath('C:/Users/humberto.carvalho/Anaconda3/lib/site-packages/matplotlib/mpl-data/stylelib/gadfly.mplstyle'), line 90 ('Os trÃªs padrÃµes padrÃ£o de traÃ§o. Estes sÃ£o dimensionados pela largura de linha.')\n",
      "\n",
      "Bad key linhas.largura de linha in file C:\\Users\\humberto.carvalho\\Anaconda3\\lib\\site-packages\\matplotlib\\mpl-data\\stylelib\\gadfly.mplstyle, line 76 ('linhas.largura de linha : 2 ## largura de linha em pontos')\n",
      "You probably need to get an updated matplotlibrc file from\n",
      "https://github.com/matplotlib/matplotlib/blob/v3.3.2/matplotlibrc.template\n",
      "or from the matplotlib source distribution\n",
      "\n",
      "Bad key linhas.markeredgecolor in file C:\\Users\\humberto.carvalho\\Anaconda3\\lib\\site-packages\\matplotlib\\mpl-data\\stylelib\\gadfly.mplstyle, line 81 ('linhas.markeredgecolor : branco ## o marcador padrÃ£o markeredgecolor')\n",
      "You probably need to get an updated matplotlibrc file from\n",
      "https://github.com/matplotlib/matplotlib/blob/v3.3.2/matplotlibrc.template\n",
      "or from the matplotlib source distribution\n",
      "\n",
      "Bad key linhas.markeredgewidth in file C:\\Users\\humberto.carvalho\\Anaconda3\\lib\\site-packages\\matplotlib\\mpl-data\\stylelib\\gadfly.mplstyle, line 82 ('linhas.markeredgewidth : 1 ## a largura da linha em torno do sÃ\\xadmbolo do marcador')\n",
      "You probably need to get an updated matplotlibrc file from\n",
      "https://github.com/matplotlib/matplotlib/blob/v3.3.2/matplotlibrc.template\n",
      "or from the matplotlib source distribution\n",
      "\n",
      "Bad key linhas.markersize in file C:\\Users\\humberto.carvalho\\Anaconda3\\lib\\site-packages\\matplotlib\\mpl-data\\stylelib\\gadfly.mplstyle, line 83 ('linhas.markersize : 7 ## markersize, em pontos')\n",
      "You probably need to get an updated matplotlibrc file from\n",
      "https://github.com/matplotlib/matplotlib/blob/v3.3.2/matplotlibrc.template\n",
      "or from the matplotlib source distribution\n",
      "Bad value in file WindowsPath('C:/Users/humberto.carvalho/Anaconda3/lib/site-packages/matplotlib/mpl-data/stylelib/gadfly.mplstyle'), line 105 ('patch.edgecolor : preto ## se forÃ§ado ou patch nÃ£o Ã© preenchido'): Key patch.edgecolor: 'preto' does not look like a color arg\n"
     ]
    }
   ],
   "source": [
    "import os\n",
    "import warnings\n",
    "import sys\n",
    "\n",
    "import pandas as pd\n",
    "import matplotlib.pyplot as plt\n",
    "import numpy as np\n",
    "from sklearn import tree, preprocessing, metrics, model_selection\n",
    "import mlflow\n",
    "import mlflow.sklearn\n",
    "import pycaret.classification as pc\n",
    "\n",
    "import logging\n",
    "\n",
    "logging.basicConfig(level=logging.WARN)\n",
    "logger = logging.getLogger(__name__)\n"
   ]
  },
  {
   "cell_type": "markdown",
   "source": [
    "## Função create experiment"
   ],
   "metadata": {
    "collapsed": false
   }
  },
  {
   "cell_type": "code",
   "execution_count": 9,
   "outputs": [],
   "source": [
    "# Para usar o sqlite como repositorio\n",
    "def create_experiment(experiment_name):\n",
    "    mlflow.set_tracking_uri(\"sqlite:///mlruns_teste.db\")\n",
    "    experiment = mlflow.get_experiment_by_name(experiment_name)\n",
    "    if experiment is None:\n",
    "        experiment_id = mlflow.create_experiment(experiment_name)\n",
    "        experiment = mlflow.get_experiment(experiment_id)\n",
    "    return experiment.experiment_id"
   ],
   "metadata": {
    "collapsed": false,
    "pycharm": {
     "name": "#%%\n"
    }
   }
  },
  {
   "cell_type": "markdown",
   "source": [
    "# 6- PreparacaoDados"
   ],
   "metadata": {
    "collapsed": false
   }
  },
  {
   "cell_type": "code",
   "execution_count": 366,
   "outputs": [
    {
     "data": {
      "text/plain": "<pandas.io.formats.style.Styler at 0x1ce7a157c70>",
      "text/html": "<style type=\"text/css\">\n#T_70d31_row19_col1, #T_70d31_row29_col1, #T_70d31_row31_col1, #T_70d31_row36_col1, #T_70d31_row42_col1, #T_70d31_row44_col1 {\n  background-color: lightgreen;\n}\n</style>\n<table id=\"T_70d31\">\n  <thead>\n    <tr>\n      <th class=\"blank level0\" >&nbsp;</th>\n      <th id=\"T_70d31_level0_col0\" class=\"col_heading level0 col0\" >Description</th>\n      <th id=\"T_70d31_level0_col1\" class=\"col_heading level0 col1\" >Value</th>\n    </tr>\n  </thead>\n  <tbody>\n    <tr>\n      <th id=\"T_70d31_level0_row0\" class=\"row_heading level0 row0\" >0</th>\n      <td id=\"T_70d31_row0_col0\" class=\"data row0 col0\" >session_id</td>\n      <td id=\"T_70d31_row0_col1\" class=\"data row0 col1\" >123</td>\n    </tr>\n    <tr>\n      <th id=\"T_70d31_level0_row1\" class=\"row_heading level0 row1\" >1</th>\n      <td id=\"T_70d31_row1_col0\" class=\"data row1 col0\" >Target</td>\n      <td id=\"T_70d31_row1_col1\" class=\"data row1 col1\" >shot_made_flag</td>\n    </tr>\n    <tr>\n      <th id=\"T_70d31_level0_row2\" class=\"row_heading level0 row2\" >2</th>\n      <td id=\"T_70d31_row2_col0\" class=\"data row2 col0\" >Target Type</td>\n      <td id=\"T_70d31_row2_col1\" class=\"data row2 col1\" >Binary</td>\n    </tr>\n    <tr>\n      <th id=\"T_70d31_level0_row3\" class=\"row_heading level0 row3\" >3</th>\n      <td id=\"T_70d31_row3_col0\" class=\"data row3 col0\" >Label Encoded</td>\n      <td id=\"T_70d31_row3_col1\" class=\"data row3 col1\" >0.0: 0, 1.0: 1</td>\n    </tr>\n    <tr>\n      <th id=\"T_70d31_level0_row4\" class=\"row_heading level0 row4\" >4</th>\n      <td id=\"T_70d31_row4_col0\" class=\"data row4 col0\" >Original Data</td>\n      <td id=\"T_70d31_row4_col1\" class=\"data row4 col1\" >(20285, 8)</td>\n    </tr>\n    <tr>\n      <th id=\"T_70d31_level0_row5\" class=\"row_heading level0 row5\" >5</th>\n      <td id=\"T_70d31_row5_col0\" class=\"data row5 col0\" >Missing Values</td>\n      <td id=\"T_70d31_row5_col1\" class=\"data row5 col1\" >0</td>\n    </tr>\n    <tr>\n      <th id=\"T_70d31_level0_row6\" class=\"row_heading level0 row6\" >6</th>\n      <td id=\"T_70d31_row6_col0\" class=\"data row6 col0\" >Numeric Features</td>\n      <td id=\"T_70d31_row6_col1\" class=\"data row6 col1\" >3</td>\n    </tr>\n    <tr>\n      <th id=\"T_70d31_level0_row7\" class=\"row_heading level0 row7\" >7</th>\n      <td id=\"T_70d31_row7_col0\" class=\"data row7 col0\" >Categorical Features</td>\n      <td id=\"T_70d31_row7_col1\" class=\"data row7 col1\" >3</td>\n    </tr>\n    <tr>\n      <th id=\"T_70d31_level0_row8\" class=\"row_heading level0 row8\" >8</th>\n      <td id=\"T_70d31_row8_col0\" class=\"data row8 col0\" >Ordinal Features</td>\n      <td id=\"T_70d31_row8_col1\" class=\"data row8 col1\" >0</td>\n    </tr>\n    <tr>\n      <th id=\"T_70d31_level0_row9\" class=\"row_heading level0 row9\" >9</th>\n      <td id=\"T_70d31_row9_col0\" class=\"data row9 col0\" >High Cardinality Features</td>\n      <td id=\"T_70d31_row9_col1\" class=\"data row9 col1\" >0</td>\n    </tr>\n    <tr>\n      <th id=\"T_70d31_level0_row10\" class=\"row_heading level0 row10\" >10</th>\n      <td id=\"T_70d31_row10_col0\" class=\"data row10 col0\" >High Cardinality Method</td>\n      <td id=\"T_70d31_row10_col1\" class=\"data row10 col1\" >None</td>\n    </tr>\n    <tr>\n      <th id=\"T_70d31_level0_row11\" class=\"row_heading level0 row11\" >11</th>\n      <td id=\"T_70d31_row11_col0\" class=\"data row11 col0\" >Transformed Train Set</td>\n      <td id=\"T_70d31_row11_col1\" class=\"data row11 col1\" >(16228, 21)</td>\n    </tr>\n    <tr>\n      <th id=\"T_70d31_level0_row12\" class=\"row_heading level0 row12\" >12</th>\n      <td id=\"T_70d31_row12_col0\" class=\"data row12 col0\" >Transformed Test Set</td>\n      <td id=\"T_70d31_row12_col1\" class=\"data row12 col1\" >(4057, 21)</td>\n    </tr>\n    <tr>\n      <th id=\"T_70d31_level0_row13\" class=\"row_heading level0 row13\" >13</th>\n      <td id=\"T_70d31_row13_col0\" class=\"data row13 col0\" >Shuffle Train-Test</td>\n      <td id=\"T_70d31_row13_col1\" class=\"data row13 col1\" >True</td>\n    </tr>\n    <tr>\n      <th id=\"T_70d31_level0_row14\" class=\"row_heading level0 row14\" >14</th>\n      <td id=\"T_70d31_row14_col0\" class=\"data row14 col0\" >Stratify Train-Test</td>\n      <td id=\"T_70d31_row14_col1\" class=\"data row14 col1\" >False</td>\n    </tr>\n    <tr>\n      <th id=\"T_70d31_level0_row15\" class=\"row_heading level0 row15\" >15</th>\n      <td id=\"T_70d31_row15_col0\" class=\"data row15 col0\" >Fold Generator</td>\n      <td id=\"T_70d31_row15_col1\" class=\"data row15 col1\" >StratifiedKFold</td>\n    </tr>\n    <tr>\n      <th id=\"T_70d31_level0_row16\" class=\"row_heading level0 row16\" >16</th>\n      <td id=\"T_70d31_row16_col0\" class=\"data row16 col0\" >Fold Number</td>\n      <td id=\"T_70d31_row16_col1\" class=\"data row16 col1\" >10</td>\n    </tr>\n    <tr>\n      <th id=\"T_70d31_level0_row17\" class=\"row_heading level0 row17\" >17</th>\n      <td id=\"T_70d31_row17_col0\" class=\"data row17 col0\" >CPU Jobs</td>\n      <td id=\"T_70d31_row17_col1\" class=\"data row17 col1\" >-1</td>\n    </tr>\n    <tr>\n      <th id=\"T_70d31_level0_row18\" class=\"row_heading level0 row18\" >18</th>\n      <td id=\"T_70d31_row18_col0\" class=\"data row18 col0\" >Use GPU</td>\n      <td id=\"T_70d31_row18_col1\" class=\"data row18 col1\" >0</td>\n    </tr>\n    <tr>\n      <th id=\"T_70d31_level0_row19\" class=\"row_heading level0 row19\" >19</th>\n      <td id=\"T_70d31_row19_col0\" class=\"data row19 col0\" >Log Experiment</td>\n      <td id=\"T_70d31_row19_col1\" class=\"data row19 col1\" >1</td>\n    </tr>\n    <tr>\n      <th id=\"T_70d31_level0_row20\" class=\"row_heading level0 row20\" >20</th>\n      <td id=\"T_70d31_row20_col0\" class=\"data row20 col0\" >Experiment Name</td>\n      <td id=\"T_70d31_row20_col1\" class=\"data row20 col1\" >Preparacao Dados</td>\n    </tr>\n    <tr>\n      <th id=\"T_70d31_level0_row21\" class=\"row_heading level0 row21\" >21</th>\n      <td id=\"T_70d31_row21_col0\" class=\"data row21 col0\" >USI</td>\n      <td id=\"T_70d31_row21_col1\" class=\"data row21 col1\" >e761</td>\n    </tr>\n    <tr>\n      <th id=\"T_70d31_level0_row22\" class=\"row_heading level0 row22\" >22</th>\n      <td id=\"T_70d31_row22_col0\" class=\"data row22 col0\" >Imputation Type</td>\n      <td id=\"T_70d31_row22_col1\" class=\"data row22 col1\" >simple</td>\n    </tr>\n    <tr>\n      <th id=\"T_70d31_level0_row23\" class=\"row_heading level0 row23\" >23</th>\n      <td id=\"T_70d31_row23_col0\" class=\"data row23 col0\" >Iterative Imputation Iteration</td>\n      <td id=\"T_70d31_row23_col1\" class=\"data row23 col1\" >None</td>\n    </tr>\n    <tr>\n      <th id=\"T_70d31_level0_row24\" class=\"row_heading level0 row24\" >24</th>\n      <td id=\"T_70d31_row24_col0\" class=\"data row24 col0\" >Numeric Imputer</td>\n      <td id=\"T_70d31_row24_col1\" class=\"data row24 col1\" >mean</td>\n    </tr>\n    <tr>\n      <th id=\"T_70d31_level0_row25\" class=\"row_heading level0 row25\" >25</th>\n      <td id=\"T_70d31_row25_col0\" class=\"data row25 col0\" >Iterative Imputation Numeric Model</td>\n      <td id=\"T_70d31_row25_col1\" class=\"data row25 col1\" >None</td>\n    </tr>\n    <tr>\n      <th id=\"T_70d31_level0_row26\" class=\"row_heading level0 row26\" >26</th>\n      <td id=\"T_70d31_row26_col0\" class=\"data row26 col0\" >Categorical Imputer</td>\n      <td id=\"T_70d31_row26_col1\" class=\"data row26 col1\" >constant</td>\n    </tr>\n    <tr>\n      <th id=\"T_70d31_level0_row27\" class=\"row_heading level0 row27\" >27</th>\n      <td id=\"T_70d31_row27_col0\" class=\"data row27 col0\" >Iterative Imputation Categorical Model</td>\n      <td id=\"T_70d31_row27_col1\" class=\"data row27 col1\" >None</td>\n    </tr>\n    <tr>\n      <th id=\"T_70d31_level0_row28\" class=\"row_heading level0 row28\" >28</th>\n      <td id=\"T_70d31_row28_col0\" class=\"data row28 col0\" >Unknown Categoricals Handling</td>\n      <td id=\"T_70d31_row28_col1\" class=\"data row28 col1\" >least_frequent</td>\n    </tr>\n    <tr>\n      <th id=\"T_70d31_level0_row29\" class=\"row_heading level0 row29\" >29</th>\n      <td id=\"T_70d31_row29_col0\" class=\"data row29 col0\" >Normalize</td>\n      <td id=\"T_70d31_row29_col1\" class=\"data row29 col1\" >1</td>\n    </tr>\n    <tr>\n      <th id=\"T_70d31_level0_row30\" class=\"row_heading level0 row30\" >30</th>\n      <td id=\"T_70d31_row30_col0\" class=\"data row30 col0\" >Normalize Method</td>\n      <td id=\"T_70d31_row30_col1\" class=\"data row30 col1\" >zscore</td>\n    </tr>\n    <tr>\n      <th id=\"T_70d31_level0_row31\" class=\"row_heading level0 row31\" >31</th>\n      <td id=\"T_70d31_row31_col0\" class=\"data row31 col0\" >Transformation</td>\n      <td id=\"T_70d31_row31_col1\" class=\"data row31 col1\" >1</td>\n    </tr>\n    <tr>\n      <th id=\"T_70d31_level0_row32\" class=\"row_heading level0 row32\" >32</th>\n      <td id=\"T_70d31_row32_col0\" class=\"data row32 col0\" >Transformation Method</td>\n      <td id=\"T_70d31_row32_col1\" class=\"data row32 col1\" >yeo-johnson</td>\n    </tr>\n    <tr>\n      <th id=\"T_70d31_level0_row33\" class=\"row_heading level0 row33\" >33</th>\n      <td id=\"T_70d31_row33_col0\" class=\"data row33 col0\" >PCA</td>\n      <td id=\"T_70d31_row33_col1\" class=\"data row33 col1\" >0</td>\n    </tr>\n    <tr>\n      <th id=\"T_70d31_level0_row34\" class=\"row_heading level0 row34\" >34</th>\n      <td id=\"T_70d31_row34_col0\" class=\"data row34 col0\" >PCA Method</td>\n      <td id=\"T_70d31_row34_col1\" class=\"data row34 col1\" >None</td>\n    </tr>\n    <tr>\n      <th id=\"T_70d31_level0_row35\" class=\"row_heading level0 row35\" >35</th>\n      <td id=\"T_70d31_row35_col0\" class=\"data row35 col0\" >PCA Components</td>\n      <td id=\"T_70d31_row35_col1\" class=\"data row35 col1\" >None</td>\n    </tr>\n    <tr>\n      <th id=\"T_70d31_level0_row36\" class=\"row_heading level0 row36\" >36</th>\n      <td id=\"T_70d31_row36_col0\" class=\"data row36 col0\" >Ignore Low Variance</td>\n      <td id=\"T_70d31_row36_col1\" class=\"data row36 col1\" >1</td>\n    </tr>\n    <tr>\n      <th id=\"T_70d31_level0_row37\" class=\"row_heading level0 row37\" >37</th>\n      <td id=\"T_70d31_row37_col0\" class=\"data row37 col0\" >Combine Rare Levels</td>\n      <td id=\"T_70d31_row37_col1\" class=\"data row37 col1\" >0</td>\n    </tr>\n    <tr>\n      <th id=\"T_70d31_level0_row38\" class=\"row_heading level0 row38\" >38</th>\n      <td id=\"T_70d31_row38_col0\" class=\"data row38 col0\" >Rare Level Threshold</td>\n      <td id=\"T_70d31_row38_col1\" class=\"data row38 col1\" >None</td>\n    </tr>\n    <tr>\n      <th id=\"T_70d31_level0_row39\" class=\"row_heading level0 row39\" >39</th>\n      <td id=\"T_70d31_row39_col0\" class=\"data row39 col0\" >Numeric Binning</td>\n      <td id=\"T_70d31_row39_col1\" class=\"data row39 col1\" >0</td>\n    </tr>\n    <tr>\n      <th id=\"T_70d31_level0_row40\" class=\"row_heading level0 row40\" >40</th>\n      <td id=\"T_70d31_row40_col0\" class=\"data row40 col0\" >Remove Outliers</td>\n      <td id=\"T_70d31_row40_col1\" class=\"data row40 col1\" >0</td>\n    </tr>\n    <tr>\n      <th id=\"T_70d31_level0_row41\" class=\"row_heading level0 row41\" >41</th>\n      <td id=\"T_70d31_row41_col0\" class=\"data row41 col0\" >Outliers Threshold</td>\n      <td id=\"T_70d31_row41_col1\" class=\"data row41 col1\" >None</td>\n    </tr>\n    <tr>\n      <th id=\"T_70d31_level0_row42\" class=\"row_heading level0 row42\" >42</th>\n      <td id=\"T_70d31_row42_col0\" class=\"data row42 col0\" >Remove Multicollinearity</td>\n      <td id=\"T_70d31_row42_col1\" class=\"data row42 col1\" >1</td>\n    </tr>\n    <tr>\n      <th id=\"T_70d31_level0_row43\" class=\"row_heading level0 row43\" >43</th>\n      <td id=\"T_70d31_row43_col0\" class=\"data row43 col0\" >Multicollinearity Threshold</td>\n      <td id=\"T_70d31_row43_col1\" class=\"data row43 col1\" >0.950000</td>\n    </tr>\n    <tr>\n      <th id=\"T_70d31_level0_row44\" class=\"row_heading level0 row44\" >44</th>\n      <td id=\"T_70d31_row44_col0\" class=\"data row44 col0\" >Remove Perfect Collinearity</td>\n      <td id=\"T_70d31_row44_col1\" class=\"data row44 col1\" >1</td>\n    </tr>\n    <tr>\n      <th id=\"T_70d31_level0_row45\" class=\"row_heading level0 row45\" >45</th>\n      <td id=\"T_70d31_row45_col0\" class=\"data row45 col0\" >Clustering</td>\n      <td id=\"T_70d31_row45_col1\" class=\"data row45 col1\" >0</td>\n    </tr>\n    <tr>\n      <th id=\"T_70d31_level0_row46\" class=\"row_heading level0 row46\" >46</th>\n      <td id=\"T_70d31_row46_col0\" class=\"data row46 col0\" >Clustering Iteration</td>\n      <td id=\"T_70d31_row46_col1\" class=\"data row46 col1\" >None</td>\n    </tr>\n    <tr>\n      <th id=\"T_70d31_level0_row47\" class=\"row_heading level0 row47\" >47</th>\n      <td id=\"T_70d31_row47_col0\" class=\"data row47 col0\" >Polynomial Features</td>\n      <td id=\"T_70d31_row47_col1\" class=\"data row47 col1\" >0</td>\n    </tr>\n    <tr>\n      <th id=\"T_70d31_level0_row48\" class=\"row_heading level0 row48\" >48</th>\n      <td id=\"T_70d31_row48_col0\" class=\"data row48 col0\" >Polynomial Degree</td>\n      <td id=\"T_70d31_row48_col1\" class=\"data row48 col1\" >None</td>\n    </tr>\n    <tr>\n      <th id=\"T_70d31_level0_row49\" class=\"row_heading level0 row49\" >49</th>\n      <td id=\"T_70d31_row49_col0\" class=\"data row49 col0\" >Trignometry Features</td>\n      <td id=\"T_70d31_row49_col1\" class=\"data row49 col1\" >0</td>\n    </tr>\n    <tr>\n      <th id=\"T_70d31_level0_row50\" class=\"row_heading level0 row50\" >50</th>\n      <td id=\"T_70d31_row50_col0\" class=\"data row50 col0\" >Polynomial Threshold</td>\n      <td id=\"T_70d31_row50_col1\" class=\"data row50 col1\" >None</td>\n    </tr>\n    <tr>\n      <th id=\"T_70d31_level0_row51\" class=\"row_heading level0 row51\" >51</th>\n      <td id=\"T_70d31_row51_col0\" class=\"data row51 col0\" >Group Features</td>\n      <td id=\"T_70d31_row51_col1\" class=\"data row51 col1\" >0</td>\n    </tr>\n    <tr>\n      <th id=\"T_70d31_level0_row52\" class=\"row_heading level0 row52\" >52</th>\n      <td id=\"T_70d31_row52_col0\" class=\"data row52 col0\" >Feature Selection</td>\n      <td id=\"T_70d31_row52_col1\" class=\"data row52 col1\" >0</td>\n    </tr>\n    <tr>\n      <th id=\"T_70d31_level0_row53\" class=\"row_heading level0 row53\" >53</th>\n      <td id=\"T_70d31_row53_col0\" class=\"data row53 col0\" >Feature Selection Method</td>\n      <td id=\"T_70d31_row53_col1\" class=\"data row53 col1\" >classic</td>\n    </tr>\n    <tr>\n      <th id=\"T_70d31_level0_row54\" class=\"row_heading level0 row54\" >54</th>\n      <td id=\"T_70d31_row54_col0\" class=\"data row54 col0\" >Features Selection Threshold</td>\n      <td id=\"T_70d31_row54_col1\" class=\"data row54 col1\" >None</td>\n    </tr>\n    <tr>\n      <th id=\"T_70d31_level0_row55\" class=\"row_heading level0 row55\" >55</th>\n      <td id=\"T_70d31_row55_col0\" class=\"data row55 col0\" >Feature Interaction</td>\n      <td id=\"T_70d31_row55_col1\" class=\"data row55 col1\" >0</td>\n    </tr>\n    <tr>\n      <th id=\"T_70d31_level0_row56\" class=\"row_heading level0 row56\" >56</th>\n      <td id=\"T_70d31_row56_col0\" class=\"data row56 col0\" >Feature Ratio</td>\n      <td id=\"T_70d31_row56_col1\" class=\"data row56 col1\" >0</td>\n    </tr>\n    <tr>\n      <th id=\"T_70d31_level0_row57\" class=\"row_heading level0 row57\" >57</th>\n      <td id=\"T_70d31_row57_col0\" class=\"data row57 col0\" >Interaction Threshold</td>\n      <td id=\"T_70d31_row57_col1\" class=\"data row57 col1\" >None</td>\n    </tr>\n    <tr>\n      <th id=\"T_70d31_level0_row58\" class=\"row_heading level0 row58\" >58</th>\n      <td id=\"T_70d31_row58_col0\" class=\"data row58 col0\" >Fix Imbalance</td>\n      <td id=\"T_70d31_row58_col1\" class=\"data row58 col1\" >0</td>\n    </tr>\n    <tr>\n      <th id=\"T_70d31_level0_row59\" class=\"row_heading level0 row59\" >59</th>\n      <td id=\"T_70d31_row59_col0\" class=\"data row59 col0\" >Fix Imbalance Method</td>\n      <td id=\"T_70d31_row59_col1\" class=\"data row59 col1\" >SMOTE</td>\n    </tr>\n  </tbody>\n</table>\n"
     },
     "metadata": {},
     "output_type": "display_data"
    },
    {
     "name": "stderr",
     "output_type": "stream",
     "text": [
      "INFO:logs:Logging experiment in MLFlow\n",
      "INFO:logs:SubProcess save_model() called ==================================\n",
      "INFO:logs:Initializing save_model()\n",
      "INFO:logs:save_model(model=Pipeline(memory=None,\n",
      "         steps=[('dtypes',\n",
      "                 DataTypes_Auto_infer(categorical_features=[],\n",
      "                                      display_types=False,\n",
      "                                      features_todrop=['shot_type'],\n",
      "                                      id_columns=[],\n",
      "                                      ml_usecase='classification',\n",
      "                                      numerical_features=[],\n",
      "                                      target='shot_made_flag',\n",
      "                                      time_features=[])),\n",
      "                ('imputer',\n",
      "                 Simple_Imputer(categorical_strategy='not_available',\n",
      "                                fill_value_categorical=None,\n",
      "                                fill_value_numerica...\n",
      "                ('dummy', Dummify(target='shot_made_flag')),\n",
      "                ('fix_perfect', Remove_100(target='shot_made_flag')),\n",
      "                ('clean_names', Clean_Colum_Names()),\n",
      "                ('feature_select', 'passthrough'),\n",
      "                ('fix_multi',\n",
      "                 Fix_multicollinearity(correlation_with_target_preference=None,\n",
      "                                       correlation_with_target_threshold=0.0,\n",
      "                                       target_variable='shot_made_flag',\n",
      "                                       threshold=0.95)),\n",
      "                ('dfs', 'passthrough'), ('pca', 'passthrough')],\n",
      "         verbose=False), model_name=Transformation Pipeline, prep_pipe_=Pipeline(memory=None,\n",
      "         steps=[('dtypes',\n",
      "                 DataTypes_Auto_infer(categorical_features=[],\n",
      "                                      display_types=False,\n",
      "                                      features_todrop=['shot_type'],\n",
      "                                      id_columns=[],\n",
      "                                      ml_usecase='classification',\n",
      "                                      numerical_features=[],\n",
      "                                      target='shot_made_flag',\n",
      "                                      time_features=[])),\n",
      "                ('imputer',\n",
      "                 Simple_Imputer(categorical_strategy='not_available',\n",
      "                                fill_value_categorical=None,\n",
      "                                fill_value_numerica...\n",
      "                ('dummy', Dummify(target='shot_made_flag')),\n",
      "                ('fix_perfect', Remove_100(target='shot_made_flag')),\n",
      "                ('clean_names', Clean_Colum_Names()),\n",
      "                ('feature_select', 'passthrough'),\n",
      "                ('fix_multi',\n",
      "                 Fix_multicollinearity(correlation_with_target_preference=None,\n",
      "                                       correlation_with_target_threshold=0.0,\n",
      "                                       target_variable='shot_made_flag',\n",
      "                                       threshold=0.95)),\n",
      "                ('dfs', 'passthrough'), ('pca', 'passthrough')],\n",
      "         verbose=False), verbose=False, kwargs={})\n",
      "INFO:logs:Adding model into prep_pipe\n",
      "WARNING:logs:Only Model saved as it was a pipeline.\n",
      "INFO:logs:Transformation Pipeline.pkl saved in current working directory\n",
      "INFO:logs:Pipeline(memory=None,\n",
      "         steps=[('dtypes',\n",
      "                 DataTypes_Auto_infer(categorical_features=[],\n",
      "                                      display_types=False,\n",
      "                                      features_todrop=['shot_type'],\n",
      "                                      id_columns=[],\n",
      "                                      ml_usecase='classification',\n",
      "                                      numerical_features=[],\n",
      "                                      target='shot_made_flag',\n",
      "                                      time_features=[])),\n",
      "                ('imputer',\n",
      "                 Simple_Imputer(categorical_strategy='not_available',\n",
      "                                fill_value_categorical=None,\n",
      "                                fill_value_numerica...\n",
      "                ('dummy', Dummify(target='shot_made_flag')),\n",
      "                ('fix_perfect', Remove_100(target='shot_made_flag')),\n",
      "                ('clean_names', Clean_Colum_Names()),\n",
      "                ('feature_select', 'passthrough'),\n",
      "                ('fix_multi',\n",
      "                 Fix_multicollinearity(correlation_with_target_preference=None,\n",
      "                                       correlation_with_target_threshold=0.0,\n",
      "                                       target_variable='shot_made_flag',\n",
      "                                       threshold=0.95)),\n",
      "                ('dfs', 'passthrough'), ('pca', 'passthrough')],\n",
      "         verbose=False)\n",
      "INFO:logs:save_model() successfully completed......................................\n",
      "INFO:logs:SubProcess save_model() end ==================================\n",
      "INFO:logs:create_model_container: 0\n",
      "INFO:logs:master_model_container: 0\n",
      "INFO:logs:display_container: 1\n",
      "INFO:logs:Pipeline(memory=None,\n",
      "         steps=[('dtypes',\n",
      "                 DataTypes_Auto_infer(categorical_features=[],\n",
      "                                      display_types=False,\n",
      "                                      features_todrop=['shot_type'],\n",
      "                                      id_columns=[],\n",
      "                                      ml_usecase='classification',\n",
      "                                      numerical_features=[],\n",
      "                                      target='shot_made_flag',\n",
      "                                      time_features=[])),\n",
      "                ('imputer',\n",
      "                 Simple_Imputer(categorical_strategy='not_available',\n",
      "                                fill_value_categorical=None,\n",
      "                                fill_value_numerica...\n",
      "                ('dummy', Dummify(target='shot_made_flag')),\n",
      "                ('fix_perfect', Remove_100(target='shot_made_flag')),\n",
      "                ('clean_names', Clean_Colum_Names()),\n",
      "                ('feature_select', 'passthrough'),\n",
      "                ('fix_multi',\n",
      "                 Fix_multicollinearity(correlation_with_target_preference=None,\n",
      "                                       correlation_with_target_threshold=0.0,\n",
      "                                       target_variable='shot_made_flag',\n",
      "                                       threshold=0.95)),\n",
      "                ('dfs', 'passthrough'), ('pca', 'passthrough')],\n",
      "         verbose=False)\n",
      "INFO:logs:setup() succesfully completed......................................\n"
     ]
    },
    {
     "data": {
      "text/plain": "           lat       lon  minutes_remaining  period  playoffs  shot_distance  \\\n1      34.0443 -118.4268                 10       1         0             15   \n2      33.9093 -118.3708                  7       1         0             16   \n3      33.8693 -118.1318                  6       1         0             22   \n4      34.0443 -118.2698                  6       2         0              0   \n5      34.0553 -118.4148                  9       3         0             14   \n...        ...       ...                ...     ...       ...            ...   \n30690  33.9443 -118.3828                 11       4         1             15   \n30691  34.0443 -118.2698                  7       4         1              0   \n30692  33.9963 -118.2688                  6       4         1              4   \n30694  33.8783 -118.4038                  3       4         1             21   \n30696  33.9723 -118.2688                  0       4         1              7   \n\n       shot_made_flag       shot_type  \n1                 0.0  2PT Field Goal  \n2                 1.0  2PT Field Goal  \n3                 0.0  2PT Field Goal  \n4                 1.0  2PT Field Goal  \n5                 0.0  2PT Field Goal  \n...               ...             ...  \n30690             0.0  2PT Field Goal  \n30691             0.0  2PT Field Goal  \n30692             0.0  2PT Field Goal  \n30694             1.0  2PT Field Goal  \n30696             0.0  2PT Field Goal  \n\n[20285 rows x 8 columns]",
      "text/html": "<div>\n<style scoped>\n    .dataframe tbody tr th:only-of-type {\n        vertical-align: middle;\n    }\n\n    .dataframe tbody tr th {\n        vertical-align: top;\n    }\n\n    .dataframe thead th {\n        text-align: right;\n    }\n</style>\n<table border=\"1\" class=\"dataframe\">\n  <thead>\n    <tr style=\"text-align: right;\">\n      <th></th>\n      <th>lat</th>\n      <th>lon</th>\n      <th>minutes_remaining</th>\n      <th>period</th>\n      <th>playoffs</th>\n      <th>shot_distance</th>\n      <th>shot_made_flag</th>\n      <th>shot_type</th>\n    </tr>\n  </thead>\n  <tbody>\n    <tr>\n      <th>1</th>\n      <td>34.0443</td>\n      <td>-118.4268</td>\n      <td>10</td>\n      <td>1</td>\n      <td>0</td>\n      <td>15</td>\n      <td>0.0</td>\n      <td>2PT Field Goal</td>\n    </tr>\n    <tr>\n      <th>2</th>\n      <td>33.9093</td>\n      <td>-118.3708</td>\n      <td>7</td>\n      <td>1</td>\n      <td>0</td>\n      <td>16</td>\n      <td>1.0</td>\n      <td>2PT Field Goal</td>\n    </tr>\n    <tr>\n      <th>3</th>\n      <td>33.8693</td>\n      <td>-118.1318</td>\n      <td>6</td>\n      <td>1</td>\n      <td>0</td>\n      <td>22</td>\n      <td>0.0</td>\n      <td>2PT Field Goal</td>\n    </tr>\n    <tr>\n      <th>4</th>\n      <td>34.0443</td>\n      <td>-118.2698</td>\n      <td>6</td>\n      <td>2</td>\n      <td>0</td>\n      <td>0</td>\n      <td>1.0</td>\n      <td>2PT Field Goal</td>\n    </tr>\n    <tr>\n      <th>5</th>\n      <td>34.0553</td>\n      <td>-118.4148</td>\n      <td>9</td>\n      <td>3</td>\n      <td>0</td>\n      <td>14</td>\n      <td>0.0</td>\n      <td>2PT Field Goal</td>\n    </tr>\n    <tr>\n      <th>...</th>\n      <td>...</td>\n      <td>...</td>\n      <td>...</td>\n      <td>...</td>\n      <td>...</td>\n      <td>...</td>\n      <td>...</td>\n      <td>...</td>\n    </tr>\n    <tr>\n      <th>30690</th>\n      <td>33.9443</td>\n      <td>-118.3828</td>\n      <td>11</td>\n      <td>4</td>\n      <td>1</td>\n      <td>15</td>\n      <td>0.0</td>\n      <td>2PT Field Goal</td>\n    </tr>\n    <tr>\n      <th>30691</th>\n      <td>34.0443</td>\n      <td>-118.2698</td>\n      <td>7</td>\n      <td>4</td>\n      <td>1</td>\n      <td>0</td>\n      <td>0.0</td>\n      <td>2PT Field Goal</td>\n    </tr>\n    <tr>\n      <th>30692</th>\n      <td>33.9963</td>\n      <td>-118.2688</td>\n      <td>6</td>\n      <td>4</td>\n      <td>1</td>\n      <td>4</td>\n      <td>0.0</td>\n      <td>2PT Field Goal</td>\n    </tr>\n    <tr>\n      <th>30694</th>\n      <td>33.8783</td>\n      <td>-118.4038</td>\n      <td>3</td>\n      <td>4</td>\n      <td>1</td>\n      <td>21</td>\n      <td>1.0</td>\n      <td>2PT Field Goal</td>\n    </tr>\n    <tr>\n      <th>30696</th>\n      <td>33.9723</td>\n      <td>-118.2688</td>\n      <td>0</td>\n      <td>4</td>\n      <td>1</td>\n      <td>7</td>\n      <td>0.0</td>\n      <td>2PT Field Goal</td>\n    </tr>\n  </tbody>\n</table>\n<p>20285 rows × 8 columns</p>\n</div>"
     },
     "execution_count": 366,
     "metadata": {},
     "output_type": "execute_result"
    }
   ],
   "source": [
    "mlflow.set_tracking_uri(\"sqlite:///mlruns_teste_.db\")\n",
    "experiment_name = 'Preparacao Dados'\n",
    "experiment_id = create_experiment(experiment_name)\n",
    "\n",
    "with mlflow.start_run(experiment_id=experiment_id, run_name = experiment_name, nested=True):\n",
    "    dir_file = '../../data.csv'\n",
    "    columns=['lat', 'lon', 'minutes_remaining', 'period', 'playoffs', 'shot_distance', 'shot_type', 'shot_made_flag']\n",
    "    df = pd.read_csv(dir_file, usecols=columns).query('shot_type == \"2PT Field Goal\"').dropna()\n",
    "    df.to_parquet(\"../data/processed/data_filtered.parquet\")\n",
    "\n",
    "    target_col = 'shot_made_flag'\n",
    "    experiment = pc.setup(\n",
    "        session_id=123,\n",
    "        data = df, # Configurações de dados\n",
    "        train_size=0.8,\n",
    "        target = target_col,\n",
    "        profile = False, # Analise interativa de variaveis\n",
    "        fold_strategy = 'stratifiedkfold', # Validação cruzada\n",
    "        fold = 10,\n",
    "        normalize = True,  # Normalização, transformação e remoção de variáveis\n",
    "        transformation = True,\n",
    "        ignore_low_variance = True,\n",
    "        remove_multicollinearity = True,\n",
    "        multicollinearity_threshold = 0.95,\n",
    "        bin_numeric_features = None, # Binarizacao de variaveis\n",
    "        group_features = None, # Grupos de variáveis para combinar na engenharia de variaveis\n",
    "        ignore_features = ['shot_type'],\n",
    "        log_experiment = True, # Logging dos experimentos e afins\n",
    "        experiment_name = experiment_name,\n",
    "        silent=True\n",
    "    )\n",
    "    experiment[2][1][1].to_parquet(\"../data/operalization/base_train.parquet\")\n",
    "    experiment[2][3][1].to_parquet(\"../data/operalization/base_test.parquet\")\n",
    "    mlflow.log_artifact(\"../data/operalization/base_train.parquet\")\n",
    "    mlflow.log_artifact(\"../data/operalization/base_test.parquet\")\n",
    "df"
   ],
   "metadata": {
    "collapsed": false,
    "pycharm": {
     "name": "#%%\n"
    }
   }
  },
  {
   "cell_type": "markdown",
   "id": "93114919-0483-4ff1-89ba-2c3ac6b6dfce",
   "metadata": {},
   "source": [
    "# 7- Treinamento"
   ]
  },
  {
   "cell_type": "code",
   "execution_count": 348,
   "outputs": [],
   "source": [
    "def get_final_model_train(experiment_name):\n",
    "    target_col = 'shot_made_flag'\n",
    "    experiment = pc.setup(\n",
    "        session_id=123,\n",
    "        data = df, # Configurações de dados\n",
    "        train_size=0.8,\n",
    "        target = target_col,\n",
    "        profile = False, # Analise interativa de variaveis\n",
    "        fold_strategy = 'stratifiedkfold', # Validação cruzada\n",
    "        fold = 10,\n",
    "        normalize = True,  # Normalização, transformação e remoção de variáveis\n",
    "        transformation = True,\n",
    "        ignore_low_variance = True,\n",
    "        remove_multicollinearity = True,\n",
    "        multicollinearity_threshold = 0.95,\n",
    "        bin_numeric_features = None, # Binarizacao de variaveis\n",
    "        group_features = None, # Grupos de variáveis para combinar na engenharia de variaveis\n",
    "        ignore_features = ['shot_type'],\n",
    "        log_experiment = True, # Logging dos experimentos e afins\n",
    "        experiment_name = experiment_name,\n",
    "        silent=True\n",
    "    )\n",
    "\n",
    "    model = pc.compare_models(n_select = 1, sort='Accuracy', include=['lr', 'rf'])\n",
    "    tuned_model = pc.tune_model(model,\n",
    "                                optimize = 'f1',\n",
    "                                search_library = 'scikit-learn',\n",
    "                                search_algorithm = 'random',\n",
    "                                n_iter = 4)\n",
    "    calibrated_model = pc.calibrate_model(tuned_model, method='sigmoid', calibrate_fold=5, fold=5)\n",
    "    final_model = pc.finalize_model(calibrated_model)\n",
    "    pred_final = pc.predict_model(final_model)\n",
    "    pred_final.to_parquet('../data/operalization/pred_final.parquet')\n",
    "    final_model_save = pc.save_model(calibrated_model, '../data/operalization/final_teste')\n",
    "    return final_model, final_model_save"
   ],
   "metadata": {
    "collapsed": false,
    "pycharm": {
     "name": "#%%\n"
    }
   }
  },
  {
   "cell_type": "code",
   "execution_count": 367,
   "outputs": [
    {
     "name": "stderr",
     "output_type": "stream",
     "text": [
      "INFO:logs:Initializing plot_model()\n",
      "INFO:logs:plot_model(fold=None, use_train_data=False, verbose=True, is_in_evaluate=False, display=None, display_format=None, estimator=CalibratedClassifierCV(base_estimator=LogisticRegression(C=8.866,\n",
      "                                                         class_weight='balanced',\n",
      "                                                         dual=False,\n",
      "                                                         fit_intercept=True,\n",
      "                                                         intercept_scaling=1,\n",
      "                                                         l1_ratio=None,\n",
      "                                                         max_iter=1000,\n",
      "                                                         multi_class='auto',\n",
      "                                                         n_jobs=None,\n",
      "                                                         penalty='l2',\n",
      "                                                         random_state=123,\n",
      "                                                         solver='lbfgs',\n",
      "                                                         tol=0.0001, verbose=0,\n",
      "                                                         warm_start=False),\n",
      "                       cv=5, method='sigmoid'), feature_name=None, fit_kwargs=None, groups=None, label=False, plot=feature, plot_kwargs=None, save=True, scale=1, system=True)\n",
      "INFO:logs:Checking exceptions\n"
     ]
    },
    {
     "name": "stdout",
     "output_type": "stream",
     "text": [
      "=> Nao possivel plotar:  vc\n",
      "=> Aplicando plot  feature\n",
      "=> Nao possivel plotar:  feature\n"
     ]
    }
   ],
   "source": [
    "mlflow.set_tracking_uri(\"sqlite:///mlruns_teste_.db\")\n",
    "experiment_name = 'Treinamento'\n",
    "model_name = 'modelo_salvo_final'\n",
    "experiment_id = create_experiment(experiment_name)\n",
    "\n",
    "with mlflow.start_run(experiment_id=experiment_id, run_name = experiment_name, nested=True) as run:\n",
    "    final_model, final_model_save = get_final_model_train(experiment_name)\n",
    "    # mlflow.sklearn.save_model(final_model, model_name)\n",
    "    # mlflow.sklearn.save_model(final_model_save, model_name)\n",
    "    # mlflow.sklearn.log_model(final_model, model_name)\n",
    "    # mlflow.log_artifact('final_model.pkl')\n",
    "    classification_plots = ['log loss', 'f1', 'auc','pr','confusion_matrix', 'error', 'class_report', 'threshold', 'learning','vc','feature']\n",
    "    for plot_type in classification_plots:\n",
    "        print('=> Aplicando plot ', plot_type)\n",
    "        try:\n",
    "            artifact = pc.plot_model(final_model, plot=plot_type, save=True, use_train_data=False)\n",
    "            mlflow.log_artifact(artifact)\n",
    "        except:\n",
    "            print('=> Nao possivel plotar: ', plot_type )\n",
    "            continue"
   ],
   "metadata": {
    "collapsed": false,
    "pycharm": {
     "name": "#%%\n"
    }
   }
  },
  {
   "cell_type": "markdown",
   "id": "37d4aecd-3bf3-4a97-bf08-a8e2f0507b31",
   "metadata": {},
   "source": [
    "# 8 - API Modelo"
   ]
  },
  {
   "cell_type": "code",
   "execution_count": 206,
   "id": "5492b089-75c9-4bac-a56a-137d715ee107",
   "metadata": {},
   "outputs": [
    {
     "name": "stderr",
     "output_type": "stream",
     "text": [
      "2022/04/24 17:32:28 WARNING mlflow.utils.environment: Encountered an unexpected error while inferring pip requirements (model URI: C:\\Users\\HUMBER~1.CAR\\AppData\\Local\\Temp\\tmphxn9cu5q\\model\\model.pkl, flavor: sklearn), fall back to return ['scikit-learn==0.23.2', 'cloudpickle==1.6.0']. Set logging level to DEBUG to see the full traceback.\n",
      "Successfully registered model 'modelo_teste'.\n",
      "2022/04/24 17:32:28 INFO mlflow.tracking._model_registry.client: Waiting up to 300 seconds for model version to finish creation.                     Model name: modelo_teste, version 1\n",
      "Created version '1' of model 'modelo_teste'.\n"
     ]
    },
    {
     "data": {
      "text/plain": "<ModelVersion: creation_timestamp=1650832348893, current_stage='Staging', description=None, last_updated_timestamp=1650832348921, name='modelo_teste', run_id='64c6b62de1614abf8fde9a3907255432', run_link=None, source='./mlruns/6/64c6b62de1614abf8fde9a3907255432/artifacts/sklearn-model', status='READY', status_message=None, tags={}, user_id=None, version=1>"
     },
     "execution_count": 206,
     "metadata": {},
     "output_type": "execute_result"
    }
   ],
   "source": [
    "from mlflow.tracking import MlflowClient\n",
    "from mlflow.models.signature import infer_signature\n",
    "from mlflow.models.signature import ModelSignature\n",
    "mlflow.set_registry_uri(\"sqlite:///mlruns_teste.db\")\n",
    "\n",
    "registered_model_name = 'modelo_teste'\n",
    "model_version = -1\n",
    "nexamples = 4\n",
    "\n",
    "df_experiment = experiment[6]\n",
    "\n",
    "model_features = list(df_experiment.columns)\n",
    "inf_signature = infer_signature(df_experiment[model_features], final_model.predict(df_experiment))\n",
    "\n",
    "input_example = {x: df_experiment[x].values[:nexamples] for x in model_features}\n",
    "\n",
    "mlflow.sklearn.log_model(\n",
    "    sk_model=final_model,\n",
    "    artifact_path=\"sklearn-model\",\n",
    "    registered_model_name=registered_model_name,\n",
    "    signature = inf_signature,\n",
    "    input_example = input_example\n",
    ")\n",
    "\n",
    "client = MlflowClient()\n",
    "if model_version == -1:\n",
    "    model_version = client.get_latest_versions(registered_model_name)[-1].version\n",
    "\n",
    "client.transition_model_version_stage(\n",
    "    name=registered_model_name,\n",
    "    version=model_version,\n",
    "    stage=\"Staging\"\n",
    ")\n"
   ]
  },
  {
   "cell_type": "markdown",
   "id": "9fec2d9a-b439-40e3-9890-bb43a0f3a46f",
   "metadata": {},
   "source": [
    "## Servir o Modelo com o MLFlow"
   ]
  },
  {
   "cell_type": "code",
   "execution_count": 209,
   "id": "f7af399b-db4c-4612-b00d-ffbebc2c080c",
   "metadata": {},
   "outputs": [
    {
     "name": "stdout",
     "output_type": "stream",
     "text": [
      "^C\n"
     ]
    }
   ],
   "source": [
    "import os\n",
    "os.environ['MLFLOW_TRACKING_URI'] = 'sqlite:///mlruns_teste.db'\n",
    "\n",
    "!mlflow models serve -m \"models:/modelo_teste/Staging\" --no-conda -p 5001"
   ]
  },
  {
   "cell_type": "code",
   "execution_count": 210,
   "id": "bd65bc79-8234-404a-ab1d-8b9adffb0b70",
   "metadata": {},
   "outputs": [
    {
     "name": "stdout",
     "output_type": "stream",
     "text": [
      "^C\n"
     ]
    }
   ],
   "source": [
    "!mlflow server --backend-store-uri sqlite:///mlruns_teste.db --default-artifact-root file:./mlserver/"
   ]
  },
  {
   "cell_type": "markdown",
   "id": "8c546385-733e-47bd-8437-cb4691b6e012",
   "metadata": {},
   "source": [
    "## 8 - API REQUEST"
   ]
  },
  {
   "cell_type": "code",
   "execution_count": 213,
   "outputs": [
    {
     "data": {
      "text/plain": "<pandas.io.formats.style.Styler at 0x1ce053bf550>",
      "text/html": "<style type=\"text/css\">\n#T_da725_row19_col1, #T_da725_row29_col1, #T_da725_row31_col1, #T_da725_row36_col1, #T_da725_row42_col1, #T_da725_row44_col1 {\n  background-color: lightgreen;\n}\n</style>\n<table id=\"T_da725\">\n  <thead>\n    <tr>\n      <th class=\"blank level0\" >&nbsp;</th>\n      <th id=\"T_da725_level0_col0\" class=\"col_heading level0 col0\" >Description</th>\n      <th id=\"T_da725_level0_col1\" class=\"col_heading level0 col1\" >Value</th>\n    </tr>\n  </thead>\n  <tbody>\n    <tr>\n      <th id=\"T_da725_level0_row0\" class=\"row_heading level0 row0\" >0</th>\n      <td id=\"T_da725_row0_col0\" class=\"data row0 col0\" >session_id</td>\n      <td id=\"T_da725_row0_col1\" class=\"data row0 col1\" >123</td>\n    </tr>\n    <tr>\n      <th id=\"T_da725_level0_row1\" class=\"row_heading level0 row1\" >1</th>\n      <td id=\"T_da725_row1_col0\" class=\"data row1 col0\" >Target</td>\n      <td id=\"T_da725_row1_col1\" class=\"data row1 col1\" >shot_made_flag</td>\n    </tr>\n    <tr>\n      <th id=\"T_da725_level0_row2\" class=\"row_heading level0 row2\" >2</th>\n      <td id=\"T_da725_row2_col0\" class=\"data row2 col0\" >Target Type</td>\n      <td id=\"T_da725_row2_col1\" class=\"data row2 col1\" >Binary</td>\n    </tr>\n    <tr>\n      <th id=\"T_da725_level0_row3\" class=\"row_heading level0 row3\" >3</th>\n      <td id=\"T_da725_row3_col0\" class=\"data row3 col0\" >Label Encoded</td>\n      <td id=\"T_da725_row3_col1\" class=\"data row3 col1\" >0.0: 0, 1.0: 1</td>\n    </tr>\n    <tr>\n      <th id=\"T_da725_level0_row4\" class=\"row_heading level0 row4\" >4</th>\n      <td id=\"T_da725_row4_col0\" class=\"data row4 col0\" >Original Data</td>\n      <td id=\"T_da725_row4_col1\" class=\"data row4 col1\" >(5412, 8)</td>\n    </tr>\n    <tr>\n      <th id=\"T_da725_level0_row5\" class=\"row_heading level0 row5\" >5</th>\n      <td id=\"T_da725_row5_col0\" class=\"data row5 col0\" >Missing Values</td>\n      <td id=\"T_da725_row5_col1\" class=\"data row5 col1\" >0</td>\n    </tr>\n    <tr>\n      <th id=\"T_da725_level0_row6\" class=\"row_heading level0 row6\" >6</th>\n      <td id=\"T_da725_row6_col0\" class=\"data row6 col0\" >Numeric Features</td>\n      <td id=\"T_da725_row6_col1\" class=\"data row6 col1\" >3</td>\n    </tr>\n    <tr>\n      <th id=\"T_da725_level0_row7\" class=\"row_heading level0 row7\" >7</th>\n      <td id=\"T_da725_row7_col0\" class=\"data row7 col0\" >Categorical Features</td>\n      <td id=\"T_da725_row7_col1\" class=\"data row7 col1\" >3</td>\n    </tr>\n    <tr>\n      <th id=\"T_da725_level0_row8\" class=\"row_heading level0 row8\" >8</th>\n      <td id=\"T_da725_row8_col0\" class=\"data row8 col0\" >Ordinal Features</td>\n      <td id=\"T_da725_row8_col1\" class=\"data row8 col1\" >0</td>\n    </tr>\n    <tr>\n      <th id=\"T_da725_level0_row9\" class=\"row_heading level0 row9\" >9</th>\n      <td id=\"T_da725_row9_col0\" class=\"data row9 col0\" >High Cardinality Features</td>\n      <td id=\"T_da725_row9_col1\" class=\"data row9 col1\" >0</td>\n    </tr>\n    <tr>\n      <th id=\"T_da725_level0_row10\" class=\"row_heading level0 row10\" >10</th>\n      <td id=\"T_da725_row10_col0\" class=\"data row10 col0\" >High Cardinality Method</td>\n      <td id=\"T_da725_row10_col1\" class=\"data row10 col1\" >None</td>\n    </tr>\n    <tr>\n      <th id=\"T_da725_level0_row11\" class=\"row_heading level0 row11\" >11</th>\n      <td id=\"T_da725_row11_col0\" class=\"data row11 col0\" >Transformed Train Set</td>\n      <td id=\"T_da725_row11_col1\" class=\"data row11 col1\" >(4329, 23)</td>\n    </tr>\n    <tr>\n      <th id=\"T_da725_level0_row12\" class=\"row_heading level0 row12\" >12</th>\n      <td id=\"T_da725_row12_col0\" class=\"data row12 col0\" >Transformed Test Set</td>\n      <td id=\"T_da725_row12_col1\" class=\"data row12 col1\" >(1083, 23)</td>\n    </tr>\n    <tr>\n      <th id=\"T_da725_level0_row13\" class=\"row_heading level0 row13\" >13</th>\n      <td id=\"T_da725_row13_col0\" class=\"data row13 col0\" >Shuffle Train-Test</td>\n      <td id=\"T_da725_row13_col1\" class=\"data row13 col1\" >True</td>\n    </tr>\n    <tr>\n      <th id=\"T_da725_level0_row14\" class=\"row_heading level0 row14\" >14</th>\n      <td id=\"T_da725_row14_col0\" class=\"data row14 col0\" >Stratify Train-Test</td>\n      <td id=\"T_da725_row14_col1\" class=\"data row14 col1\" >False</td>\n    </tr>\n    <tr>\n      <th id=\"T_da725_level0_row15\" class=\"row_heading level0 row15\" >15</th>\n      <td id=\"T_da725_row15_col0\" class=\"data row15 col0\" >Fold Generator</td>\n      <td id=\"T_da725_row15_col1\" class=\"data row15 col1\" >StratifiedKFold</td>\n    </tr>\n    <tr>\n      <th id=\"T_da725_level0_row16\" class=\"row_heading level0 row16\" >16</th>\n      <td id=\"T_da725_row16_col0\" class=\"data row16 col0\" >Fold Number</td>\n      <td id=\"T_da725_row16_col1\" class=\"data row16 col1\" >10</td>\n    </tr>\n    <tr>\n      <th id=\"T_da725_level0_row17\" class=\"row_heading level0 row17\" >17</th>\n      <td id=\"T_da725_row17_col0\" class=\"data row17 col0\" >CPU Jobs</td>\n      <td id=\"T_da725_row17_col1\" class=\"data row17 col1\" >-1</td>\n    </tr>\n    <tr>\n      <th id=\"T_da725_level0_row18\" class=\"row_heading level0 row18\" >18</th>\n      <td id=\"T_da725_row18_col0\" class=\"data row18 col0\" >Use GPU</td>\n      <td id=\"T_da725_row18_col1\" class=\"data row18 col1\" >0</td>\n    </tr>\n    <tr>\n      <th id=\"T_da725_level0_row19\" class=\"row_heading level0 row19\" >19</th>\n      <td id=\"T_da725_row19_col0\" class=\"data row19 col0\" >Log Experiment</td>\n      <td id=\"T_da725_row19_col1\" class=\"data row19 col1\" >1</td>\n    </tr>\n    <tr>\n      <th id=\"T_da725_level0_row20\" class=\"row_heading level0 row20\" >20</th>\n      <td id=\"T_da725_row20_col0\" class=\"data row20 col0\" >Experiment Name</td>\n      <td id=\"T_da725_row20_col1\" class=\"data row20 col1\" >Treinamento_1</td>\n    </tr>\n    <tr>\n      <th id=\"T_da725_level0_row21\" class=\"row_heading level0 row21\" >21</th>\n      <td id=\"T_da725_row21_col0\" class=\"data row21 col0\" >USI</td>\n      <td id=\"T_da725_row21_col1\" class=\"data row21 col1\" >ae72</td>\n    </tr>\n    <tr>\n      <th id=\"T_da725_level0_row22\" class=\"row_heading level0 row22\" >22</th>\n      <td id=\"T_da725_row22_col0\" class=\"data row22 col0\" >Imputation Type</td>\n      <td id=\"T_da725_row22_col1\" class=\"data row22 col1\" >simple</td>\n    </tr>\n    <tr>\n      <th id=\"T_da725_level0_row23\" class=\"row_heading level0 row23\" >23</th>\n      <td id=\"T_da725_row23_col0\" class=\"data row23 col0\" >Iterative Imputation Iteration</td>\n      <td id=\"T_da725_row23_col1\" class=\"data row23 col1\" >None</td>\n    </tr>\n    <tr>\n      <th id=\"T_da725_level0_row24\" class=\"row_heading level0 row24\" >24</th>\n      <td id=\"T_da725_row24_col0\" class=\"data row24 col0\" >Numeric Imputer</td>\n      <td id=\"T_da725_row24_col1\" class=\"data row24 col1\" >mean</td>\n    </tr>\n    <tr>\n      <th id=\"T_da725_level0_row25\" class=\"row_heading level0 row25\" >25</th>\n      <td id=\"T_da725_row25_col0\" class=\"data row25 col0\" >Iterative Imputation Numeric Model</td>\n      <td id=\"T_da725_row25_col1\" class=\"data row25 col1\" >None</td>\n    </tr>\n    <tr>\n      <th id=\"T_da725_level0_row26\" class=\"row_heading level0 row26\" >26</th>\n      <td id=\"T_da725_row26_col0\" class=\"data row26 col0\" >Categorical Imputer</td>\n      <td id=\"T_da725_row26_col1\" class=\"data row26 col1\" >constant</td>\n    </tr>\n    <tr>\n      <th id=\"T_da725_level0_row27\" class=\"row_heading level0 row27\" >27</th>\n      <td id=\"T_da725_row27_col0\" class=\"data row27 col0\" >Iterative Imputation Categorical Model</td>\n      <td id=\"T_da725_row27_col1\" class=\"data row27 col1\" >None</td>\n    </tr>\n    <tr>\n      <th id=\"T_da725_level0_row28\" class=\"row_heading level0 row28\" >28</th>\n      <td id=\"T_da725_row28_col0\" class=\"data row28 col0\" >Unknown Categoricals Handling</td>\n      <td id=\"T_da725_row28_col1\" class=\"data row28 col1\" >least_frequent</td>\n    </tr>\n    <tr>\n      <th id=\"T_da725_level0_row29\" class=\"row_heading level0 row29\" >29</th>\n      <td id=\"T_da725_row29_col0\" class=\"data row29 col0\" >Normalize</td>\n      <td id=\"T_da725_row29_col1\" class=\"data row29 col1\" >1</td>\n    </tr>\n    <tr>\n      <th id=\"T_da725_level0_row30\" class=\"row_heading level0 row30\" >30</th>\n      <td id=\"T_da725_row30_col0\" class=\"data row30 col0\" >Normalize Method</td>\n      <td id=\"T_da725_row30_col1\" class=\"data row30 col1\" >zscore</td>\n    </tr>\n    <tr>\n      <th id=\"T_da725_level0_row31\" class=\"row_heading level0 row31\" >31</th>\n      <td id=\"T_da725_row31_col0\" class=\"data row31 col0\" >Transformation</td>\n      <td id=\"T_da725_row31_col1\" class=\"data row31 col1\" >1</td>\n    </tr>\n    <tr>\n      <th id=\"T_da725_level0_row32\" class=\"row_heading level0 row32\" >32</th>\n      <td id=\"T_da725_row32_col0\" class=\"data row32 col0\" >Transformation Method</td>\n      <td id=\"T_da725_row32_col1\" class=\"data row32 col1\" >yeo-johnson</td>\n    </tr>\n    <tr>\n      <th id=\"T_da725_level0_row33\" class=\"row_heading level0 row33\" >33</th>\n      <td id=\"T_da725_row33_col0\" class=\"data row33 col0\" >PCA</td>\n      <td id=\"T_da725_row33_col1\" class=\"data row33 col1\" >0</td>\n    </tr>\n    <tr>\n      <th id=\"T_da725_level0_row34\" class=\"row_heading level0 row34\" >34</th>\n      <td id=\"T_da725_row34_col0\" class=\"data row34 col0\" >PCA Method</td>\n      <td id=\"T_da725_row34_col1\" class=\"data row34 col1\" >None</td>\n    </tr>\n    <tr>\n      <th id=\"T_da725_level0_row35\" class=\"row_heading level0 row35\" >35</th>\n      <td id=\"T_da725_row35_col0\" class=\"data row35 col0\" >PCA Components</td>\n      <td id=\"T_da725_row35_col1\" class=\"data row35 col1\" >None</td>\n    </tr>\n    <tr>\n      <th id=\"T_da725_level0_row36\" class=\"row_heading level0 row36\" >36</th>\n      <td id=\"T_da725_row36_col0\" class=\"data row36 col0\" >Ignore Low Variance</td>\n      <td id=\"T_da725_row36_col1\" class=\"data row36 col1\" >1</td>\n    </tr>\n    <tr>\n      <th id=\"T_da725_level0_row37\" class=\"row_heading level0 row37\" >37</th>\n      <td id=\"T_da725_row37_col0\" class=\"data row37 col0\" >Combine Rare Levels</td>\n      <td id=\"T_da725_row37_col1\" class=\"data row37 col1\" >0</td>\n    </tr>\n    <tr>\n      <th id=\"T_da725_level0_row38\" class=\"row_heading level0 row38\" >38</th>\n      <td id=\"T_da725_row38_col0\" class=\"data row38 col0\" >Rare Level Threshold</td>\n      <td id=\"T_da725_row38_col1\" class=\"data row38 col1\" >None</td>\n    </tr>\n    <tr>\n      <th id=\"T_da725_level0_row39\" class=\"row_heading level0 row39\" >39</th>\n      <td id=\"T_da725_row39_col0\" class=\"data row39 col0\" >Numeric Binning</td>\n      <td id=\"T_da725_row39_col1\" class=\"data row39 col1\" >0</td>\n    </tr>\n    <tr>\n      <th id=\"T_da725_level0_row40\" class=\"row_heading level0 row40\" >40</th>\n      <td id=\"T_da725_row40_col0\" class=\"data row40 col0\" >Remove Outliers</td>\n      <td id=\"T_da725_row40_col1\" class=\"data row40 col1\" >0</td>\n    </tr>\n    <tr>\n      <th id=\"T_da725_level0_row41\" class=\"row_heading level0 row41\" >41</th>\n      <td id=\"T_da725_row41_col0\" class=\"data row41 col0\" >Outliers Threshold</td>\n      <td id=\"T_da725_row41_col1\" class=\"data row41 col1\" >None</td>\n    </tr>\n    <tr>\n      <th id=\"T_da725_level0_row42\" class=\"row_heading level0 row42\" >42</th>\n      <td id=\"T_da725_row42_col0\" class=\"data row42 col0\" >Remove Multicollinearity</td>\n      <td id=\"T_da725_row42_col1\" class=\"data row42 col1\" >1</td>\n    </tr>\n    <tr>\n      <th id=\"T_da725_level0_row43\" class=\"row_heading level0 row43\" >43</th>\n      <td id=\"T_da725_row43_col0\" class=\"data row43 col0\" >Multicollinearity Threshold</td>\n      <td id=\"T_da725_row43_col1\" class=\"data row43 col1\" >0.950000</td>\n    </tr>\n    <tr>\n      <th id=\"T_da725_level0_row44\" class=\"row_heading level0 row44\" >44</th>\n      <td id=\"T_da725_row44_col0\" class=\"data row44 col0\" >Remove Perfect Collinearity</td>\n      <td id=\"T_da725_row44_col1\" class=\"data row44 col1\" >1</td>\n    </tr>\n    <tr>\n      <th id=\"T_da725_level0_row45\" class=\"row_heading level0 row45\" >45</th>\n      <td id=\"T_da725_row45_col0\" class=\"data row45 col0\" >Clustering</td>\n      <td id=\"T_da725_row45_col1\" class=\"data row45 col1\" >0</td>\n    </tr>\n    <tr>\n      <th id=\"T_da725_level0_row46\" class=\"row_heading level0 row46\" >46</th>\n      <td id=\"T_da725_row46_col0\" class=\"data row46 col0\" >Clustering Iteration</td>\n      <td id=\"T_da725_row46_col1\" class=\"data row46 col1\" >None</td>\n    </tr>\n    <tr>\n      <th id=\"T_da725_level0_row47\" class=\"row_heading level0 row47\" >47</th>\n      <td id=\"T_da725_row47_col0\" class=\"data row47 col0\" >Polynomial Features</td>\n      <td id=\"T_da725_row47_col1\" class=\"data row47 col1\" >0</td>\n    </tr>\n    <tr>\n      <th id=\"T_da725_level0_row48\" class=\"row_heading level0 row48\" >48</th>\n      <td id=\"T_da725_row48_col0\" class=\"data row48 col0\" >Polynomial Degree</td>\n      <td id=\"T_da725_row48_col1\" class=\"data row48 col1\" >None</td>\n    </tr>\n    <tr>\n      <th id=\"T_da725_level0_row49\" class=\"row_heading level0 row49\" >49</th>\n      <td id=\"T_da725_row49_col0\" class=\"data row49 col0\" >Trignometry Features</td>\n      <td id=\"T_da725_row49_col1\" class=\"data row49 col1\" >0</td>\n    </tr>\n    <tr>\n      <th id=\"T_da725_level0_row50\" class=\"row_heading level0 row50\" >50</th>\n      <td id=\"T_da725_row50_col0\" class=\"data row50 col0\" >Polynomial Threshold</td>\n      <td id=\"T_da725_row50_col1\" class=\"data row50 col1\" >None</td>\n    </tr>\n    <tr>\n      <th id=\"T_da725_level0_row51\" class=\"row_heading level0 row51\" >51</th>\n      <td id=\"T_da725_row51_col0\" class=\"data row51 col0\" >Group Features</td>\n      <td id=\"T_da725_row51_col1\" class=\"data row51 col1\" >0</td>\n    </tr>\n    <tr>\n      <th id=\"T_da725_level0_row52\" class=\"row_heading level0 row52\" >52</th>\n      <td id=\"T_da725_row52_col0\" class=\"data row52 col0\" >Feature Selection</td>\n      <td id=\"T_da725_row52_col1\" class=\"data row52 col1\" >0</td>\n    </tr>\n    <tr>\n      <th id=\"T_da725_level0_row53\" class=\"row_heading level0 row53\" >53</th>\n      <td id=\"T_da725_row53_col0\" class=\"data row53 col0\" >Feature Selection Method</td>\n      <td id=\"T_da725_row53_col1\" class=\"data row53 col1\" >classic</td>\n    </tr>\n    <tr>\n      <th id=\"T_da725_level0_row54\" class=\"row_heading level0 row54\" >54</th>\n      <td id=\"T_da725_row54_col0\" class=\"data row54 col0\" >Features Selection Threshold</td>\n      <td id=\"T_da725_row54_col1\" class=\"data row54 col1\" >None</td>\n    </tr>\n    <tr>\n      <th id=\"T_da725_level0_row55\" class=\"row_heading level0 row55\" >55</th>\n      <td id=\"T_da725_row55_col0\" class=\"data row55 col0\" >Feature Interaction</td>\n      <td id=\"T_da725_row55_col1\" class=\"data row55 col1\" >0</td>\n    </tr>\n    <tr>\n      <th id=\"T_da725_level0_row56\" class=\"row_heading level0 row56\" >56</th>\n      <td id=\"T_da725_row56_col0\" class=\"data row56 col0\" >Feature Ratio</td>\n      <td id=\"T_da725_row56_col1\" class=\"data row56 col1\" >0</td>\n    </tr>\n    <tr>\n      <th id=\"T_da725_level0_row57\" class=\"row_heading level0 row57\" >57</th>\n      <td id=\"T_da725_row57_col0\" class=\"data row57 col0\" >Interaction Threshold</td>\n      <td id=\"T_da725_row57_col1\" class=\"data row57 col1\" >None</td>\n    </tr>\n    <tr>\n      <th id=\"T_da725_level0_row58\" class=\"row_heading level0 row58\" >58</th>\n      <td id=\"T_da725_row58_col0\" class=\"data row58 col0\" >Fix Imbalance</td>\n      <td id=\"T_da725_row58_col1\" class=\"data row58 col1\" >0</td>\n    </tr>\n    <tr>\n      <th id=\"T_da725_level0_row59\" class=\"row_heading level0 row59\" >59</th>\n      <td id=\"T_da725_row59_col0\" class=\"data row59 col0\" >Fix Imbalance Method</td>\n      <td id=\"T_da725_row59_col1\" class=\"data row59 col1\" >SMOTE</td>\n    </tr>\n  </tbody>\n</table>\n"
     },
     "metadata": {},
     "output_type": "display_data"
    },
    {
     "name": "stderr",
     "output_type": "stream",
     "text": [
      "INFO:logs:Logging experiment in MLFlow\n",
      "INFO:logs:SubProcess save_model() called ==================================\n",
      "INFO:logs:Initializing save_model()\n",
      "INFO:logs:save_model(model=Pipeline(memory=None,\n",
      "         steps=[('dtypes',\n",
      "                 DataTypes_Auto_infer(categorical_features=[],\n",
      "                                      display_types=False,\n",
      "                                      features_todrop=['shot_type'],\n",
      "                                      id_columns=[],\n",
      "                                      ml_usecase='classification',\n",
      "                                      numerical_features=[],\n",
      "                                      target='shot_made_flag',\n",
      "                                      time_features=[])),\n",
      "                ('imputer',\n",
      "                 Simple_Imputer(categorical_strategy='not_available',\n",
      "                                fill_value_categorical=None,\n",
      "                                fill_value_numerica...\n",
      "                ('dummy', Dummify(target='shot_made_flag')),\n",
      "                ('fix_perfect', Remove_100(target='shot_made_flag')),\n",
      "                ('clean_names', Clean_Colum_Names()),\n",
      "                ('feature_select', 'passthrough'),\n",
      "                ('fix_multi',\n",
      "                 Fix_multicollinearity(correlation_with_target_preference=None,\n",
      "                                       correlation_with_target_threshold=0.0,\n",
      "                                       target_variable='shot_made_flag',\n",
      "                                       threshold=0.95)),\n",
      "                ('dfs', 'passthrough'), ('pca', 'passthrough')],\n",
      "         verbose=False), model_name=Transformation Pipeline, prep_pipe_=Pipeline(memory=None,\n",
      "         steps=[('dtypes',\n",
      "                 DataTypes_Auto_infer(categorical_features=[],\n",
      "                                      display_types=False,\n",
      "                                      features_todrop=['shot_type'],\n",
      "                                      id_columns=[],\n",
      "                                      ml_usecase='classification',\n",
      "                                      numerical_features=[],\n",
      "                                      target='shot_made_flag',\n",
      "                                      time_features=[])),\n",
      "                ('imputer',\n",
      "                 Simple_Imputer(categorical_strategy='not_available',\n",
      "                                fill_value_categorical=None,\n",
      "                                fill_value_numerica...\n",
      "                ('dummy', Dummify(target='shot_made_flag')),\n",
      "                ('fix_perfect', Remove_100(target='shot_made_flag')),\n",
      "                ('clean_names', Clean_Colum_Names()),\n",
      "                ('feature_select', 'passthrough'),\n",
      "                ('fix_multi',\n",
      "                 Fix_multicollinearity(correlation_with_target_preference=None,\n",
      "                                       correlation_with_target_threshold=0.0,\n",
      "                                       target_variable='shot_made_flag',\n",
      "                                       threshold=0.95)),\n",
      "                ('dfs', 'passthrough'), ('pca', 'passthrough')],\n",
      "         verbose=False), verbose=False, kwargs={})\n",
      "INFO:logs:Adding model into prep_pipe\n",
      "WARNING:logs:Only Model saved as it was a pipeline.\n",
      "INFO:logs:Transformation Pipeline.pkl saved in current working directory\n",
      "INFO:logs:Pipeline(memory=None,\n",
      "         steps=[('dtypes',\n",
      "                 DataTypes_Auto_infer(categorical_features=[],\n",
      "                                      display_types=False,\n",
      "                                      features_todrop=['shot_type'],\n",
      "                                      id_columns=[],\n",
      "                                      ml_usecase='classification',\n",
      "                                      numerical_features=[],\n",
      "                                      target='shot_made_flag',\n",
      "                                      time_features=[])),\n",
      "                ('imputer',\n",
      "                 Simple_Imputer(categorical_strategy='not_available',\n",
      "                                fill_value_categorical=None,\n",
      "                                fill_value_numerica...\n",
      "                ('dummy', Dummify(target='shot_made_flag')),\n",
      "                ('fix_perfect', Remove_100(target='shot_made_flag')),\n",
      "                ('clean_names', Clean_Colum_Names()),\n",
      "                ('feature_select', 'passthrough'),\n",
      "                ('fix_multi',\n",
      "                 Fix_multicollinearity(correlation_with_target_preference=None,\n",
      "                                       correlation_with_target_threshold=0.0,\n",
      "                                       target_variable='shot_made_flag',\n",
      "                                       threshold=0.95)),\n",
      "                ('dfs', 'passthrough'), ('pca', 'passthrough')],\n",
      "         verbose=False)\n",
      "INFO:logs:save_model() successfully completed......................................\n",
      "INFO:logs:SubProcess save_model() end ==================================\n",
      "INFO:logs:create_model_container: 0\n",
      "INFO:logs:master_model_container: 0\n",
      "INFO:logs:display_container: 1\n",
      "INFO:logs:Pipeline(memory=None,\n",
      "         steps=[('dtypes',\n",
      "                 DataTypes_Auto_infer(categorical_features=[],\n",
      "                                      display_types=False,\n",
      "                                      features_todrop=['shot_type'],\n",
      "                                      id_columns=[],\n",
      "                                      ml_usecase='classification',\n",
      "                                      numerical_features=[],\n",
      "                                      target='shot_made_flag',\n",
      "                                      time_features=[])),\n",
      "                ('imputer',\n",
      "                 Simple_Imputer(categorical_strategy='not_available',\n",
      "                                fill_value_categorical=None,\n",
      "                                fill_value_numerica...\n",
      "                ('dummy', Dummify(target='shot_made_flag')),\n",
      "                ('fix_perfect', Remove_100(target='shot_made_flag')),\n",
      "                ('clean_names', Clean_Colum_Names()),\n",
      "                ('feature_select', 'passthrough'),\n",
      "                ('fix_multi',\n",
      "                 Fix_multicollinearity(correlation_with_target_preference=None,\n",
      "                                       correlation_with_target_threshold=0.0,\n",
      "                                       target_variable='shot_made_flag',\n",
      "                                       threshold=0.95)),\n",
      "                ('dfs', 'passthrough'), ('pca', 'passthrough')],\n",
      "         verbose=False)\n",
      "INFO:logs:setup() succesfully completed......................................\n"
     ]
    },
    {
     "data": {
      "text/plain": "(           lat       lon  minutes_remaining  period  playoffs  shot_distance  \\\n 10     33.8063 -118.3638                  1       3         0             25   \n 17     33.8183 -118.3868                  8       2         0             25   \n 27     33.8583 -118.4528                  0       3         0             26   \n 39     33.7723 -118.2968                  0       2         0             27   \n 55     33.8503 -118.4248                  2       1         0             24   \n ...        ...       ...                ...     ...       ...            ...   \n 30675  33.8283 -118.4038                  2       1         1             25   \n 30681  33.7833 -118.2878                  0       2         1             26   \n 30685  33.7943 -118.1888                  7       3         1             26   \n 30689  33.3653 -118.2818                  0       3         1             67   \n 30695  33.7773 -118.2388                  2       4         1             26   \n \n        shot_made_flag       shot_type  \n 10                0.0  3PT Field Goal  \n 17                1.0  3PT Field Goal  \n 27                0.0  3PT Field Goal  \n 39                1.0  3PT Field Goal  \n 55                0.0  3PT Field Goal  \n ...               ...             ...  \n 30675             0.0  3PT Field Goal  \n 30681             1.0  3PT Field Goal  \n 30685             0.0  3PT Field Goal  \n 30689             0.0  3PT Field Goal  \n 30695             0.0  3PT Field Goal  \n \n [5412 rows x 8 columns],\n 10       0\n 17       1\n 27       0\n 39       1\n 55       0\n         ..\n 30675    0\n 30681    1\n 30685    0\n 30689    0\n 30695    0\n Name: shot_made_flag, Length: 5412, dtype: int64,\n [('Setup Config',\n                                  Description            Value\n   0                               session_id              123\n   1                                   Target   shot_made_flag\n   2                              Target Type           Binary\n   3                            Label Encoded   0.0: 0, 1.0: 1\n   4                            Original Data        (5412, 8)\n   5                           Missing Values            False\n   6                         Numeric Features                3\n   7                     Categorical Features                3\n   8                         Ordinal Features            False\n   9                High Cardinality Features            False\n   10                 High Cardinality Method             None\n   11                   Transformed Train Set       (4329, 23)\n   12                    Transformed Test Set       (1083, 23)\n   13                      Shuffle Train-Test             True\n   14                     Stratify Train-Test            False\n   15                          Fold Generator  StratifiedKFold\n   16                             Fold Number               10\n   17                                CPU Jobs               -1\n   18                                 Use GPU            False\n   19                          Log Experiment             True\n   20                         Experiment Name    Treinamento_1\n   21                                     USI             ae72\n   22                         Imputation Type           simple\n   23          Iterative Imputation Iteration             None\n   24                         Numeric Imputer             mean\n   25      Iterative Imputation Numeric Model             None\n   26                     Categorical Imputer         constant\n   27  Iterative Imputation Categorical Model             None\n   28           Unknown Categoricals Handling   least_frequent\n   29                               Normalize             True\n   30                        Normalize Method           zscore\n   31                          Transformation             True\n   32                   Transformation Method      yeo-johnson\n   33                                     PCA            False\n   34                              PCA Method             None\n   35                          PCA Components             None\n   36                     Ignore Low Variance             True\n   37                     Combine Rare Levels            False\n   38                    Rare Level Threshold             None\n   39                         Numeric Binning            False\n   40                         Remove Outliers            False\n   41                      Outliers Threshold             None\n   42                Remove Multicollinearity             True\n   43             Multicollinearity Threshold             0.95\n   44             Remove Perfect Collinearity             True\n   45                              Clustering            False\n   46                    Clustering Iteration             None\n   47                     Polynomial Features            False\n   48                       Polynomial Degree             None\n   49                    Trignometry Features            False\n   50                    Polynomial Threshold             None\n   51                          Group Features            False\n   52                       Feature Selection            False\n   53                Feature Selection Method          classic\n   54            Features Selection Threshold             None\n   55                     Feature Interaction            False\n   56                           Feature Ratio            False\n   57                   Interaction Threshold             None\n   58                           Fix Imbalance            False\n   59                    Fix Imbalance Method            SMOTE),\n  ('X_training Set',\n               lat       lon  shot_distance  minutes_remaining_0  \\\n   9854   2.042042 -1.425858      -1.682951                  0.0   \n   16623 -0.208495  0.942088       0.357311                  1.0   \n   18417 -0.555691  0.996509       1.254493                  1.0   \n   19454 -0.316069  0.658869      -0.523151                  0.0   \n   16832 -0.387887 -0.930999       0.357311                  1.0   \n   ...         ...       ...            ...                  ...   \n   29542 -0.783937 -0.015404       0.357311                  1.0   \n   22607  1.128765  1.478010      -0.046780                  0.0   \n   8955  -0.172642  0.914956      -0.046780                  0.0   \n   20258 -0.316069  0.914956       0.357311                  0.0   \n   20959  0.374145  1.201689      -0.046780                  0.0   \n   \n          minutes_remaining_1  minutes_remaining_10  minutes_remaining_11  \\\n   9854                   0.0                   0.0                   0.0   \n   16623                  0.0                   0.0                   0.0   \n   18417                  0.0                   0.0                   0.0   \n   19454                  0.0                   0.0                   0.0   \n   16832                  0.0                   0.0                   0.0   \n   ...                    ...                   ...                   ...   \n   29542                  0.0                   0.0                   0.0   \n   22607                  0.0                   0.0                   1.0   \n   8955                   0.0                   0.0                   0.0   \n   20258                  0.0                   0.0                   0.0   \n   20959                  0.0                   0.0                   0.0   \n   \n          minutes_remaining_2  minutes_remaining_3  minutes_remaining_4  ...  \\\n   9854                   0.0                  0.0                  0.0  ...   \n   16623                  0.0                  0.0                  0.0  ...   \n   18417                  0.0                  0.0                  0.0  ...   \n   19454                  0.0                  0.0                  0.0  ...   \n   16832                  0.0                  0.0                  0.0  ...   \n   ...                    ...                  ...                  ...  ...   \n   29542                  0.0                  0.0                  0.0  ...   \n   22607                  0.0                  0.0                  0.0  ...   \n   8955                   0.0                  0.0                  0.0  ...   \n   20258                  1.0                  0.0                  0.0  ...   \n   20959                  0.0                  1.0                  0.0  ...   \n   \n          minutes_remaining_8  minutes_remaining_9  period_1  period_2  period_3  \\\n   9854                   1.0                  0.0       0.0       0.0       1.0   \n   16623                  0.0                  0.0       0.0       0.0       0.0   \n   18417                  0.0                  0.0       0.0       0.0       1.0   \n   19454                  1.0                  0.0       0.0       0.0       1.0   \n   16832                  0.0                  0.0       0.0       0.0       0.0   \n   ...                    ...                  ...       ...       ...       ...   \n   29542                  0.0                  0.0       0.0       0.0       0.0   \n   22607                  0.0                  0.0       0.0       0.0       1.0   \n   8955                   0.0                  0.0       1.0       0.0       0.0   \n   20258                  0.0                  0.0       0.0       0.0       0.0   \n   20959                  0.0                  0.0       1.0       0.0       0.0   \n   \n          period_4  period_5  period_6  period_7  playoffs_1  \n   9854        0.0       0.0       0.0       0.0         0.0  \n   16623       1.0       0.0       0.0       0.0         0.0  \n   18417       0.0       0.0       0.0       0.0         0.0  \n   19454       0.0       0.0       0.0       0.0         0.0  \n   16832       1.0       0.0       0.0       0.0         0.0  \n   ...         ...       ...       ...       ...         ...  \n   29542       1.0       0.0       0.0       0.0         1.0  \n   22607       0.0       0.0       0.0       0.0         0.0  \n   8955        0.0       0.0       0.0       0.0         0.0  \n   20258       1.0       0.0       0.0       0.0         0.0  \n   20959       0.0       0.0       0.0       0.0         0.0  \n   \n   [4329 rows x 23 columns]),\n  ('y_training Set',\n   9854     1\n   16623    0\n   18417    0\n   19454    0\n   16832    0\n           ..\n   29542    0\n   22607    0\n   8955     1\n   20258    1\n   20959    0\n   Name: shot_made_flag, Length: 4329, dtype: int32),\n  ('X_test Set',\n               lat       lon  shot_distance  minutes_remaining_0  \\\n   29854 -0.423797 -0.930999       0.357311                  0.0   \n   16315  0.622398 -1.297402      -0.523151                  0.0   \n   29400  0.006185 -1.126867       0.357311                  1.0   \n   19619 -0.807979 -0.002604       0.357311                  0.0   \n   24037 -0.136854 -1.032124      -0.046780                  0.0   \n   ...         ...       ...            ...                  ...   \n   8403   0.657831  1.229169      -0.523151                  0.0   \n   5588  -0.495710  0.106437      -1.069301                  0.0   \n   27633 -0.124929 -0.972731      -0.046780                  0.0   \n   6241  -0.375920 -0.660499      -0.523151                  0.0   \n   27479  0.267529 -1.215246      -0.046780                  0.0   \n   \n          minutes_remaining_1  minutes_remaining_10  minutes_remaining_11  \\\n   29854                  0.0                   0.0                   0.0   \n   16315                  0.0                   1.0                   0.0   \n   29400                  0.0                   0.0                   0.0   \n   19619                  0.0                   0.0                   0.0   \n   24037                  1.0                   0.0                   0.0   \n   ...                    ...                   ...                   ...   \n   8403                   0.0                   0.0                   0.0   \n   5588                   0.0                   0.0                   0.0   \n   27633                  1.0                   0.0                   0.0   \n   6241                   0.0                   0.0                   0.0   \n   27479                  0.0                   0.0                   0.0   \n   \n          minutes_remaining_2  minutes_remaining_3  minutes_remaining_4  ...  \\\n   29854                  0.0                  0.0                  0.0  ...   \n   16315                  0.0                  0.0                  0.0  ...   \n   29400                  0.0                  0.0                  0.0  ...   \n   19619                  0.0                  0.0                  1.0  ...   \n   24037                  0.0                  0.0                  0.0  ...   \n   ...                    ...                  ...                  ...  ...   \n   8403                   0.0                  0.0                  0.0  ...   \n   5588                   0.0                  0.0                  1.0  ...   \n   27633                  0.0                  0.0                  0.0  ...   \n   6241                   0.0                  0.0                  0.0  ...   \n   27479                  0.0                  0.0                  0.0  ...   \n   \n          minutes_remaining_8  minutes_remaining_9  period_1  period_2  period_3  \\\n   29854                  0.0                  1.0       0.0       0.0       0.0   \n   16315                  0.0                  0.0       0.0       1.0       0.0   \n   29400                  0.0                  0.0       0.0       0.0       0.0   \n   19619                  0.0                  0.0       0.0       0.0       0.0   \n   24037                  0.0                  0.0       1.0       0.0       0.0   \n   ...                    ...                  ...       ...       ...       ...   \n   8403                   0.0                  0.0       1.0       0.0       0.0   \n   5588                   0.0                  0.0       1.0       0.0       0.0   \n   27633                  0.0                  0.0       0.0       0.0       0.0   \n   6241                   0.0                  0.0       0.0       0.0       0.0   \n   27479                  1.0                  0.0       0.0       0.0       0.0   \n   \n          period_4  period_5  period_6  period_7  playoffs_1  \n   29854       1.0       0.0       0.0       0.0         1.0  \n   16315       0.0       0.0       0.0       0.0         0.0  \n   29400       1.0       0.0       0.0       0.0         1.0  \n   19619       1.0       0.0       0.0       0.0         0.0  \n   24037       0.0       0.0       0.0       0.0         0.0  \n   ...         ...       ...       ...       ...         ...  \n   8403        0.0       0.0       0.0       0.0         0.0  \n   5588        0.0       0.0       0.0       0.0         0.0  \n   27633       1.0       0.0       0.0       0.0         1.0  \n   6241        1.0       0.0       0.0       0.0         0.0  \n   27479       1.0       0.0       0.0       0.0         1.0  \n   \n   [1083 rows x 23 columns]),\n  ('y_test Set',\n   29854    0\n   16315    0\n   29400    0\n   19619    0\n   24037    1\n           ..\n   8403     0\n   5588     0\n   27633    0\n   6241     1\n   27479    1\n   Name: shot_made_flag, Length: 1083, dtype: int64),\n  ('Transformation Pipeline',\n   Pipeline(memory=None,\n            steps=[('dtypes',\n                    DataTypes_Auto_infer(categorical_features=[],\n                                         display_types=False,\n                                         features_todrop=['shot_type'],\n                                         id_columns=[],\n                                         ml_usecase='classification',\n                                         numerical_features=[],\n                                         target='shot_made_flag',\n                                         time_features=[])),\n                   ('imputer',\n                    Simple_Imputer(categorical_strategy='not_available',\n                                   fill_value_categorical=None,\n                                   fill_value_numerica...\n                   ('dummy', Dummify(target='shot_made_flag')),\n                   ('fix_perfect', Remove_100(target='shot_made_flag')),\n                   ('clean_names', Clean_Colum_Names()),\n                   ('feature_select', 'passthrough'),\n                   ('fix_multi',\n                    Fix_multicollinearity(correlation_with_target_preference=None,\n                                          correlation_with_target_threshold=0.0,\n                                          target_variable='shot_made_flag',\n                                          threshold=0.95)),\n                   ('dfs', 'passthrough'), ('pca', 'passthrough')],\n            verbose=False))],\n 'box-cox',\n None,\n 'shot_made_flag',\n             lat       lon  shot_distance  minutes_remaining_0  \\\n 10    -0.507694 -0.660499      -0.046780                  0.0   \n 17    -0.363955 -0.799309      -0.046780                  0.0   \n 27     0.113217 -1.191682       0.357311                  1.0   \n 39    -0.916282 -0.248699       0.697838                  1.0   \n 55     0.018082 -1.026193      -0.523151                  0.0   \n ...         ...       ...            ...                  ...   \n 30675 -0.244320 -0.901165      -0.046780                  0.0   \n 30681 -0.783937 -0.192419       0.357311                  1.0   \n 30685 -0.651717  0.446026       0.357311                  0.0   \n 30689 -5.882732 -0.154700       5.333608                  1.0   \n 30695 -0.856080  0.119329       0.357311                  0.0   \n \n        minutes_remaining_1  minutes_remaining_10  minutes_remaining_11  \\\n 10                     1.0                   0.0                   0.0   \n 17                     0.0                   0.0                   0.0   \n 27                     0.0                   0.0                   0.0   \n 39                     0.0                   0.0                   0.0   \n 55                     0.0                   0.0                   0.0   \n ...                    ...                   ...                   ...   \n 30675                  0.0                   0.0                   0.0   \n 30681                  0.0                   0.0                   0.0   \n 30685                  0.0                   0.0                   0.0   \n 30689                  0.0                   0.0                   0.0   \n 30695                  0.0                   0.0                   0.0   \n \n        minutes_remaining_2  minutes_remaining_3  minutes_remaining_4  ...  \\\n 10                     0.0                  0.0                  0.0  ...   \n 17                     0.0                  0.0                  0.0  ...   \n 27                     0.0                  0.0                  0.0  ...   \n 39                     0.0                  0.0                  0.0  ...   \n 55                     1.0                  0.0                  0.0  ...   \n ...                    ...                  ...                  ...  ...   \n 30675                  1.0                  0.0                  0.0  ...   \n 30681                  0.0                  0.0                  0.0  ...   \n 30685                  0.0                  0.0                  0.0  ...   \n 30689                  0.0                  0.0                  0.0  ...   \n 30695                  1.0                  0.0                  0.0  ...   \n \n        minutes_remaining_8  minutes_remaining_9  period_1  period_2  period_3  \\\n 10                     0.0                  0.0       0.0       0.0       1.0   \n 17                     1.0                  0.0       0.0       1.0       0.0   \n 27                     0.0                  0.0       0.0       0.0       1.0   \n 39                     0.0                  0.0       0.0       1.0       0.0   \n 55                     0.0                  0.0       1.0       0.0       0.0   \n ...                    ...                  ...       ...       ...       ...   \n 30675                  0.0                  0.0       1.0       0.0       0.0   \n 30681                  0.0                  0.0       0.0       1.0       0.0   \n 30685                  0.0                  0.0       0.0       0.0       1.0   \n 30689                  0.0                  0.0       0.0       0.0       1.0   \n 30695                  0.0                  0.0       0.0       0.0       0.0   \n \n        period_4  period_5  period_6  period_7  playoffs_1  \n 10          0.0       0.0       0.0       0.0         0.0  \n 17          0.0       0.0       0.0       0.0         0.0  \n 27          0.0       0.0       0.0       0.0         0.0  \n 39          0.0       0.0       0.0       0.0         0.0  \n 55          0.0       0.0       0.0       0.0         0.0  \n ...         ...       ...       ...       ...         ...  \n 30675       0.0       0.0       0.0       0.0         1.0  \n 30681       0.0       0.0       0.0       0.0         1.0  \n 30685       0.0       0.0       0.0       0.0         1.0  \n 30689       0.0       0.0       0.0       0.0         1.0  \n 30695       1.0       0.0       0.0       0.0         1.0  \n \n [5412 rows x 23 columns],\n True,\n None,\n [<pandas.io.formats.style.Styler at 0x1ce053bf550>],\n 'lightgbm',\n <MLUsecase.CLASSIFICATION: 1>,\n {'acc': <pycaret.containers.metrics.classification.AccuracyMetricContainer at 0x1ce04310eb0>,\n  'auc': <pycaret.containers.metrics.classification.ROCAUCMetricContainer at 0x1ce04310ee0>,\n  'recall': <pycaret.containers.metrics.classification.RecallMetricContainer at 0x1ce04310f70>,\n  'precision': <pycaret.containers.metrics.classification.PrecisionMetricContainer at 0x1ce053bf0d0>,\n  'f1': <pycaret.containers.metrics.classification.F1MetricContainer at 0x1ce053bf1f0>,\n  'kappa': <pycaret.containers.metrics.classification.KappaMetricContainer at 0x1ce053bf310>,\n  'mcc': <pycaret.containers.metrics.classification.MCCMetricContainer at 0x1ce053bf370>},\n {'parameter': 'Hyperparameters',\n  'auc': 'AUC',\n  'confusion_matrix': 'Confusion Matrix',\n  'threshold': 'Threshold',\n  'pr': 'Precision Recall',\n  'error': 'Prediction Error',\n  'class_report': 'Class Report',\n  'rfe': 'Feature Selection',\n  'learning': 'Learning Curve',\n  'manifold': 'Manifold Learning',\n  'calibration': 'Calibration Curve',\n  'vc': 'Validation Curve',\n  'dimension': 'Dimensions',\n  'feature': 'Feature Importance',\n  'feature_all': 'Feature Importance (All)',\n  'boundary': 'Decision Boundary',\n  'lift': 'Lift Chart',\n  'gain': 'Gain Chart',\n  'tree': 'Decision Tree',\n  'ks': 'KS Statistic Plot'},\n [],\n False,\n {'USI',\n  'X',\n  'X_test',\n  'X_train',\n  '_all_metrics',\n  '_all_models',\n  '_all_models_internal',\n  '_available_plots',\n  '_gpu_n_jobs_param',\n  '_internal_pipeline',\n  '_ml_usecase',\n  'create_model_container',\n  'dashboard_logger',\n  'data_before_preprocess',\n  'display_container',\n  'exp_name_log',\n  'experiment__',\n  'fix_imbalance_method_param',\n  'fix_imbalance_param',\n  'fold_generator',\n  'fold_groups_param',\n  'fold_groups_param_full',\n  'fold_param',\n  'fold_shuffle_param',\n  'gpu_param',\n  'html_param',\n  'imputation_classifier',\n  'imputation_regressor',\n  'iterative_imputation_iters_param',\n  'log_plots_param',\n  'logging_param',\n  'master_model_container',\n  'n_jobs_param',\n  'prep_pipe',\n  'pycaret_globals',\n  'seed',\n  'stratify_param',\n  'target_param',\n  'transform_target_method_param',\n  'transform_target_param',\n  'y',\n  'y_test',\n  'y_train'},\n False,\n -1,\n 'ae72',\n {'lr': <pycaret.containers.models.classification.LogisticRegressionClassifierContainer at 0x1ce041c5070>,\n  'knn': <pycaret.containers.models.classification.KNeighborsClassifierContainer at 0x1ce041c5130>,\n  'nb': <pycaret.containers.models.classification.GaussianNBClassifierContainer at 0x1ce041c5190>,\n  'dt': <pycaret.containers.models.classification.DecisionTreeClassifierContainer at 0x1ce041c5370>,\n  'svm': <pycaret.containers.models.classification.SGDClassifierContainer at 0x1ce041c53a0>,\n  'rbfsvm': <pycaret.containers.models.classification.SVCClassifierContainer at 0x1ce041c5910>,\n  'gpc': <pycaret.containers.models.classification.GaussianProcessClassifierContainer at 0x1ce041c5970>,\n  'mlp': <pycaret.containers.models.classification.MLPClassifierContainer at 0x1ce041c5a00>,\n  'ridge': <pycaret.containers.models.classification.RidgeClassifierContainer at 0x1ce0419ffd0>,\n  'rf': <pycaret.containers.models.classification.RandomForestClassifierContainer at 0x1ce0419f910>,\n  'qda': <pycaret.containers.models.classification.QuadraticDiscriminantAnalysisContainer at 0x1ce798bf5e0>,\n  'ada': <pycaret.containers.models.classification.AdaBoostClassifierContainer at 0x1ce76964760>,\n  'gbc': <pycaret.containers.models.classification.GradientBoostingClassifierContainer at 0x1ce798c3100>,\n  'lda': <pycaret.containers.models.classification.LinearDiscriminantAnalysisContainer at 0x1ce76905940>,\n  'et': <pycaret.containers.models.classification.ExtraTreesClassifierContainer at 0x1ce041c5eb0>,\n  'xgboost': <pycaret.containers.models.classification.XGBClassifierContainer at 0x1ce041c5f10>,\n  'lightgbm': <pycaret.containers.models.classification.LGBMClassifierContainer at 0x1ce043103d0>,\n  'dummy': <pycaret.containers.models.classification.DummyClassifierContainer at 0x1ce04310b80>,\n  'Bagging': <pycaret.containers.models.classification.BaggingClassifierContainer at 0x1ce04310b20>,\n  'Stacking': <pycaret.containers.models.classification.StackingClassifierContainer at 0x1ce04310dc0>,\n  'Voting': <pycaret.containers.models.classification.VotingClassifierContainer at 0x1ce04310df0>,\n  'CalibratedCV': <pycaret.containers.models.classification.CalibratedClassifierCVContainer at 0x1ce04310e50>},\n True,\n 5,\n -1,\n 29854    0\n 16315    0\n 29400    0\n 19619    0\n 24037    1\n         ..\n 8403     0\n 5588     0\n 27633    0\n 6241     1\n 27479    1\n Name: shot_made_flag, Length: 1083, dtype: int64,\n 10,\n             lat       lon  shot_distance  minutes_remaining_0  \\\n 9854   2.042042 -1.425858      -1.682951                  0.0   \n 16623 -0.208495  0.942088       0.357311                  1.0   \n 18417 -0.555691  0.996509       1.254493                  1.0   \n 19454 -0.316069  0.658869      -0.523151                  0.0   \n 16832 -0.387887 -0.930999       0.357311                  1.0   \n ...         ...       ...            ...                  ...   \n 29542 -0.783937 -0.015404       0.357311                  1.0   \n 22607  1.128765  1.478010      -0.046780                  0.0   \n 8955  -0.172642  0.914956      -0.046780                  0.0   \n 20258 -0.316069  0.914956       0.357311                  0.0   \n 20959  0.374145  1.201689      -0.046780                  0.0   \n \n        minutes_remaining_1  minutes_remaining_10  minutes_remaining_11  \\\n 9854                   0.0                   0.0                   0.0   \n 16623                  0.0                   0.0                   0.0   \n 18417                  0.0                   0.0                   0.0   \n 19454                  0.0                   0.0                   0.0   \n 16832                  0.0                   0.0                   0.0   \n ...                    ...                   ...                   ...   \n 29542                  0.0                   0.0                   0.0   \n 22607                  0.0                   0.0                   1.0   \n 8955                   0.0                   0.0                   0.0   \n 20258                  0.0                   0.0                   0.0   \n 20959                  0.0                   0.0                   0.0   \n \n        minutes_remaining_2  minutes_remaining_3  minutes_remaining_4  ...  \\\n 9854                   0.0                  0.0                  0.0  ...   \n 16623                  0.0                  0.0                  0.0  ...   \n 18417                  0.0                  0.0                  0.0  ...   \n 19454                  0.0                  0.0                  0.0  ...   \n 16832                  0.0                  0.0                  0.0  ...   \n ...                    ...                  ...                  ...  ...   \n 29542                  0.0                  0.0                  0.0  ...   \n 22607                  0.0                  0.0                  0.0  ...   \n 8955                   0.0                  0.0                  0.0  ...   \n 20258                  1.0                  0.0                  0.0  ...   \n 20959                  0.0                  1.0                  0.0  ...   \n \n        minutes_remaining_8  minutes_remaining_9  period_1  period_2  period_3  \\\n 9854                   1.0                  0.0       0.0       0.0       1.0   \n 16623                  0.0                  0.0       0.0       0.0       0.0   \n 18417                  0.0                  0.0       0.0       0.0       1.0   \n 19454                  1.0                  0.0       0.0       0.0       1.0   \n 16832                  0.0                  0.0       0.0       0.0       0.0   \n ...                    ...                  ...       ...       ...       ...   \n 29542                  0.0                  0.0       0.0       0.0       0.0   \n 22607                  0.0                  0.0       0.0       0.0       1.0   \n 8955                   0.0                  0.0       1.0       0.0       0.0   \n 20258                  0.0                  0.0       0.0       0.0       0.0   \n 20959                  0.0                  0.0       1.0       0.0       0.0   \n \n        period_4  period_5  period_6  period_7  playoffs_1  \n 9854        0.0       0.0       0.0       0.0         0.0  \n 16623       1.0       0.0       0.0       0.0         0.0  \n 18417       0.0       0.0       0.0       0.0         0.0  \n 19454       0.0       0.0       0.0       0.0         0.0  \n 16832       1.0       0.0       0.0       0.0         0.0  \n ...         ...       ...       ...       ...         ...  \n 29542       1.0       0.0       0.0       0.0         1.0  \n 22607       0.0       0.0       0.0       0.0         0.0  \n 8955        0.0       0.0       0.0       0.0         0.0  \n 20258       1.0       0.0       0.0       0.0         0.0  \n 20959       0.0       0.0       0.0       0.0         0.0  \n \n [4329 rows x 23 columns],\n 'lightgbm',\n False,\n 'Treinamento_1',\n 123,\n <pycaret.loggers.DashboardLogger at 0x1ce03e4e1c0>,\n False,\n Pipeline(memory=None,\n          steps=[('dtypes',\n                  DataTypes_Auto_infer(categorical_features=[],\n                                       display_types=False,\n                                       features_todrop=['shot_type'],\n                                       id_columns=[],\n                                       ml_usecase='classification',\n                                       numerical_features=[],\n                                       target='shot_made_flag',\n                                       time_features=[])),\n                 ('imputer',\n                  Simple_Imputer(categorical_strategy='not_available',\n                                 fill_value_categorical=None,\n                                 fill_value_numerica...\n                 ('dummy', Dummify(target='shot_made_flag')),\n                 ('fix_perfect', Remove_100(target='shot_made_flag')),\n                 ('clean_names', Clean_Colum_Names()),\n                 ('feature_select', 'passthrough'),\n                 ('fix_multi',\n                  Fix_multicollinearity(correlation_with_target_preference=None,\n                                        correlation_with_target_threshold=0.0,\n                                        target_variable='shot_made_flag',\n                                        threshold=0.95)),\n                 ('dfs', 'passthrough'), ('pca', 'passthrough')],\n          verbose=False),\n False,\n 9854     1\n 16623    0\n 18417    0\n 19454    0\n 16832    0\n         ..\n 29542    0\n 22607    0\n 8955     1\n 20258    1\n 20959    0\n Name: shot_made_flag, Length: 4329, dtype: int32,\n None,\n False,\n [],\n StratifiedKFold(n_splits=10, random_state=None, shuffle=False),\n {'lr': <pycaret.containers.models.classification.LogisticRegressionClassifierContainer at 0x1ce798c30a0>,\n  'knn': <pycaret.containers.models.classification.KNeighborsClassifierContainer at 0x1ce03e77e80>,\n  'nb': <pycaret.containers.models.classification.GaussianNBClassifierContainer at 0x1ce5d56d4f0>,\n  'dt': <pycaret.containers.models.classification.DecisionTreeClassifierContainer at 0x1ce04282670>,\n  'svm': <pycaret.containers.models.classification.SGDClassifierContainer at 0x1ce04282400>,\n  'rbfsvm': <pycaret.containers.models.classification.SVCClassifierContainer at 0x1ce769c5790>,\n  'gpc': <pycaret.containers.models.classification.GaussianProcessClassifierContainer at 0x1ce769c5700>,\n  'mlp': <pycaret.containers.models.classification.MLPClassifierContainer at 0x1ce769c5580>,\n  'ridge': <pycaret.containers.models.classification.RidgeClassifierContainer at 0x1ce04279a30>,\n  'rf': <pycaret.containers.models.classification.RandomForestClassifierContainer at 0x1ce03e588e0>,\n  'qda': <pycaret.containers.models.classification.QuadraticDiscriminantAnalysisContainer at 0x1ce042726d0>,\n  'ada': <pycaret.containers.models.classification.AdaBoostClassifierContainer at 0x1ce03e4e940>,\n  'gbc': <pycaret.containers.models.classification.GradientBoostingClassifierContainer at 0x1ce03e6f4c0>,\n  'lda': <pycaret.containers.models.classification.LinearDiscriminantAnalysisContainer at 0x1ce03e6f460>,\n  'et': <pycaret.containers.models.classification.ExtraTreesClassifierContainer at 0x1ce768191c0>,\n  'xgboost': <pycaret.containers.models.classification.XGBClassifierContainer at 0x1ce768199d0>,\n  'lightgbm': <pycaret.containers.models.classification.LGBMClassifierContainer at 0x1ce0419f6a0>,\n  'dummy': <pycaret.containers.models.classification.DummyClassifierContainer at 0x1ce0419f550>},\n             lat       lon  shot_distance  minutes_remaining_0  \\\n 29854 -0.423797 -0.930999       0.357311                  0.0   \n 16315  0.622398 -1.297402      -0.523151                  0.0   \n 29400  0.006185 -1.126867       0.357311                  1.0   \n 19619 -0.807979 -0.002604       0.357311                  0.0   \n 24037 -0.136854 -1.032124      -0.046780                  0.0   \n ...         ...       ...            ...                  ...   \n 8403   0.657831  1.229169      -0.523151                  0.0   \n 5588  -0.495710  0.106437      -1.069301                  0.0   \n 27633 -0.124929 -0.972731      -0.046780                  0.0   \n 6241  -0.375920 -0.660499      -0.523151                  0.0   \n 27479  0.267529 -1.215246      -0.046780                  0.0   \n \n        minutes_remaining_1  minutes_remaining_10  minutes_remaining_11  \\\n 29854                  0.0                   0.0                   0.0   \n 16315                  0.0                   1.0                   0.0   \n 29400                  0.0                   0.0                   0.0   \n 19619                  0.0                   0.0                   0.0   \n 24037                  1.0                   0.0                   0.0   \n ...                    ...                   ...                   ...   \n 8403                   0.0                   0.0                   0.0   \n 5588                   0.0                   0.0                   0.0   \n 27633                  1.0                   0.0                   0.0   \n 6241                   0.0                   0.0                   0.0   \n 27479                  0.0                   0.0                   0.0   \n \n        minutes_remaining_2  minutes_remaining_3  minutes_remaining_4  ...  \\\n 29854                  0.0                  0.0                  0.0  ...   \n 16315                  0.0                  0.0                  0.0  ...   \n 29400                  0.0                  0.0                  0.0  ...   \n 19619                  0.0                  0.0                  1.0  ...   \n 24037                  0.0                  0.0                  0.0  ...   \n ...                    ...                  ...                  ...  ...   \n 8403                   0.0                  0.0                  0.0  ...   \n 5588                   0.0                  0.0                  1.0  ...   \n 27633                  0.0                  0.0                  0.0  ...   \n 6241                   0.0                  0.0                  0.0  ...   \n 27479                  0.0                  0.0                  0.0  ...   \n \n        minutes_remaining_8  minutes_remaining_9  period_1  period_2  period_3  \\\n 29854                  0.0                  1.0       0.0       0.0       0.0   \n 16315                  0.0                  0.0       0.0       1.0       0.0   \n 29400                  0.0                  0.0       0.0       0.0       0.0   \n 19619                  0.0                  0.0       0.0       0.0       0.0   \n 24037                  0.0                  0.0       1.0       0.0       0.0   \n ...                    ...                  ...       ...       ...       ...   \n 8403                   0.0                  0.0       1.0       0.0       0.0   \n 5588                   0.0                  0.0       1.0       0.0       0.0   \n 27633                  0.0                  0.0       0.0       0.0       0.0   \n 6241                   0.0                  0.0       0.0       0.0       0.0   \n 27479                  1.0                  0.0       0.0       0.0       0.0   \n \n        period_4  period_5  period_6  period_7  playoffs_1  \n 29854       1.0       0.0       0.0       0.0         1.0  \n 16315       0.0       0.0       0.0       0.0         0.0  \n 29400       1.0       0.0       0.0       0.0         1.0  \n 19619       1.0       0.0       0.0       0.0         0.0  \n 24037       0.0       0.0       0.0       0.0         0.0  \n ...         ...       ...       ...       ...         ...  \n 8403        0.0       0.0       0.0       0.0         0.0  \n 5588        0.0       0.0       0.0       0.0         0.0  \n 27633       1.0       0.0       0.0       0.0         1.0  \n 6241        1.0       0.0       0.0       0.0         0.0  \n 27479       1.0       0.0       0.0       0.0         1.0  \n \n [1083 rows x 23 columns],\n Pipeline(memory=None, steps=[('empty_step', 'passthrough')], verbose=False))"
     },
     "execution_count": 213,
     "metadata": {},
     "output_type": "execute_result"
    }
   ],
   "source": [
    "dir_file = '../../data.csv'\n",
    "columns=['lat', 'lon', 'minutes_remaining', 'period', 'playoffs', 'shot_distance', 'shot_type', 'shot_made_flag']\n",
    "df_predict = pd.read_csv(dir_file, usecols=columns).query('shot_type == \"3PT Field Goal\"').dropna()\n",
    "\n",
    "\n",
    "request_setup = pc.setup(\n",
    "        session_id=123,\n",
    "        data = df_predict, # Configurações de dados\n",
    "        train_size=0.8,\n",
    "        target = target_col,\n",
    "        profile = False, # Analise interativa de variaveis\n",
    "        fold_strategy = 'stratifiedkfold', # Validação cruzada\n",
    "        fold = 10,\n",
    "        normalize = True,  # Normalização, transformação e remoção de variáveis\n",
    "        transformation = True,\n",
    "        ignore_low_variance = True,\n",
    "        remove_multicollinearity = True,\n",
    "        multicollinearity_threshold = 0.95,\n",
    "        bin_numeric_features = None, # Binarizacao de variaveis\n",
    "        group_features = None, # Grupos de variáveis para combinar na engenharia de variaveis\n",
    "        ignore_features = ['shot_type'],\n",
    "        log_experiment = True, # Logging dos experimentos e afins\n",
    "        experiment_name = experiment_name,\n",
    "        silent=True\n",
    "    )\n",
    "df_request = request_setup[6]\n",
    "df_request"
   ],
   "metadata": {
    "collapsed": false,
    "pycharm": {
     "name": "#%%\n"
    }
   }
  },
  {
   "cell_type": "code",
   "execution_count": 372,
   "id": "38266c05-e0b3-4947-a03e-4a6cc09cd587",
   "metadata": {},
   "outputs": [],
   "source": [
    "import requests\n",
    "host = 'localhost'\n",
    "port = '5001'\n",
    "url = f'http://{host}:{port}/invocations'\n",
    "headers = {'Content-Type': 'application/json',}\n",
    "\n",
    "http_data = df_request.to_json(orient='split')\n",
    "r = requests.post(url=url, headers=headers, data=http_data)\n",
    "\n",
    "response = pd.read_json(r.text)\n",
    "response.columns = ['shot_made_flag_api']\n",
    "response.to_parquet('../data/processed/response_api.parquet')\n",
    "response"
   ]
  },
  {
   "cell_type": "markdown",
   "source": [
    "## f1_score"
   ],
   "metadata": {
    "collapsed": false
   }
  },
  {
   "cell_type": "code",
   "execution_count": 376,
   "outputs": [
    {
     "data": {
      "text/plain": "0.3560693641618497"
     },
     "execution_count": 376,
     "metadata": {},
     "output_type": "execute_result"
    }
   ],
   "source": [
    "from sklearn.metrics import f1_score, log_loss\n",
    "\n",
    "f1_score(request_setup[0]['shot_made_flag'], response)"
   ],
   "metadata": {
    "collapsed": false,
    "pycharm": {
     "name": "#%%\n"
    }
   }
  },
  {
   "cell_type": "markdown",
   "source": [
    "## Log_loss"
   ],
   "metadata": {
    "collapsed": false
   }
  },
  {
   "cell_type": "code",
   "execution_count": 377,
   "outputs": [
    {
     "data": {
      "text/plain": "14.219002767984454"
     },
     "execution_count": 377,
     "metadata": {},
     "output_type": "execute_result"
    }
   ],
   "source": [
    "log_loss(request_setup[0]['shot_made_flag'], response)"
   ],
   "metadata": {
    "collapsed": false,
    "pycharm": {
     "name": "#%%\n"
    }
   }
  }
 ],
 "metadata": {
  "kernelspec": {
   "display_name": "Python 3",
   "language": "python",
   "name": "python3"
  },
  "language_info": {
   "codemirror_mode": {
    "name": "ipython",
    "version": 3
   },
   "file_extension": ".py",
   "mimetype": "text/x-python",
   "name": "python",
   "nbconvert_exporter": "python",
   "pygments_lexer": "ipython3",
   "version": "3.8.5"
  }
 },
 "nbformat": 4,
 "nbformat_minor": 5
}